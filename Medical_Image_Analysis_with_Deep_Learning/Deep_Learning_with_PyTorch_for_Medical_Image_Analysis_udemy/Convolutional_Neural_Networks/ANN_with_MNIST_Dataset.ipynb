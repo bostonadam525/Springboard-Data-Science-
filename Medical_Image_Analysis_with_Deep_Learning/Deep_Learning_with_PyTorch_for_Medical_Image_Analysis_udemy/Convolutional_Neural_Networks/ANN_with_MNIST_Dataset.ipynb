{
  "nbformat": 4,
  "nbformat_minor": 0,
  "metadata": {
    "colab": {
      "provenance": []
    },
    "kernelspec": {
      "name": "python3",
      "display_name": "Python 3"
    },
    "language_info": {
      "name": "python"
    }
  },
  "cells": [
    {
      "cell_type": "markdown",
      "source": [
        "# Artificial Neural Network with MNIST Dataset\n",
        "* Notebook coded by Adam Lang\n",
        "* Date: 4/19/2024\n",
        "* This was a code along as part of the course Deep Learning for Medical Image Analysis taught by Professor Jose Portilla from Udemy.\n",
        "* We will build a simple neural network to predict and classify the images from the famous MNIST dataset and evaluate the results.\n",
        "    * I will do this another way in another notebook comparing an alternative approach.\n",
        "    * Then we will in another notebook show how a CNN network performs better on image data.\n",
        "* More details about the MNIST dataset: https://en.wikipedia.org/wiki/MNIST_database\n",
        "* The MNIST database (Modified National Institute of Standards and Technology database) is a large collection of handwritten digits. It has a training set of 60,000 examples, and a test set of 10,000 examples. It is a subset of a larger NIST Special Database 3 (digits written by employees of the United States Census Bureau) and Special Database 1 (digits written by high school students) which contain monochrome images of handwritten digits. The digits have been size-normalized and centered in a fixed-size image. The original black and white (bilevel) images from NIST were size normalized to fit in a 20x20 pixel box while preserving their aspect ratio. The resulting images contain grey levels as a result of the anti-aliasing technique used by the normalization algorithm. the images were centered in a 28x28 image by computing the center of mass of the pixels, and translating the image so as to position this point at the center of the 28x28 field. (source: https://paperswithcode.com/dataset/mnist)"
      ],
      "metadata": {
        "id": "wJuOuKflyWHQ"
      }
    },
    {
      "cell_type": "markdown",
      "source": [
        "## Imports"
      ],
      "metadata": {
        "id": "FXabEiBDyfQX"
      }
    },
    {
      "cell_type": "code",
      "execution_count": 1,
      "metadata": {
        "id": "j8AheWhvyR19"
      },
      "outputs": [],
      "source": [
        "import torch\n",
        "import torch.nn as nn\n",
        "import torch.nn.functional as F\n",
        "\n",
        "## datasets and dataloaders\n",
        "from torch.utils.data import DataLoader\n",
        "from torchvision import datasets, transforms\n",
        "\n",
        "## standard imports\n",
        "import numpy as np\n",
        "import pandas as pd\n",
        "from sklearn.metrics import confusion_matrix\n",
        "import matplotlib.pyplot as plt\n",
        "%matplotlib inline"
      ]
    },
    {
      "cell_type": "markdown",
      "source": [
        "# Step 1 - Import MNIST Dataset"
      ],
      "metadata": {
        "id": "FimgSI2py8pT"
      }
    },
    {
      "cell_type": "code",
      "source": [
        "# MNIST IMAGE file => tensors\n",
        "transform = transforms.ToTensor()"
      ],
      "metadata": {
        "id": "KXPDqfLwy17-"
      },
      "execution_count": 2,
      "outputs": []
    },
    {
      "cell_type": "code",
      "source": [
        "## load training set - setting root location of data - downloading data - dowload as tensor\n",
        "train_data = datasets.MNIST(root='../Data',train=True,download=True,transform=transform)"
      ],
      "metadata": {
        "colab": {
          "base_uri": "https://localhost:8080/"
        },
        "id": "oLqWpnaQzPgE",
        "outputId": "c7305926-bc98-4106-9503-9c8d78236522"
      },
      "execution_count": 3,
      "outputs": [
        {
          "output_type": "stream",
          "name": "stdout",
          "text": [
            "Downloading http://yann.lecun.com/exdb/mnist/train-images-idx3-ubyte.gz\n",
            "Downloading http://yann.lecun.com/exdb/mnist/train-images-idx3-ubyte.gz to ../Data/MNIST/raw/train-images-idx3-ubyte.gz\n"
          ]
        },
        {
          "output_type": "stream",
          "name": "stderr",
          "text": [
            "100%|██████████| 9912422/9912422 [00:00<00:00, 143265223.91it/s]"
          ]
        },
        {
          "output_type": "stream",
          "name": "stdout",
          "text": [
            "Extracting ../Data/MNIST/raw/train-images-idx3-ubyte.gz to ../Data/MNIST/raw\n"
          ]
        },
        {
          "output_type": "stream",
          "name": "stderr",
          "text": [
            "\n"
          ]
        },
        {
          "output_type": "stream",
          "name": "stdout",
          "text": [
            "\n",
            "Downloading http://yann.lecun.com/exdb/mnist/train-labels-idx1-ubyte.gz\n",
            "Downloading http://yann.lecun.com/exdb/mnist/train-labels-idx1-ubyte.gz to ../Data/MNIST/raw/train-labels-idx1-ubyte.gz\n"
          ]
        },
        {
          "output_type": "stream",
          "name": "stderr",
          "text": [
            "100%|██████████| 28881/28881 [00:00<00:00, 83599512.65it/s]\n"
          ]
        },
        {
          "output_type": "stream",
          "name": "stdout",
          "text": [
            "Extracting ../Data/MNIST/raw/train-labels-idx1-ubyte.gz to ../Data/MNIST/raw\n",
            "\n",
            "Downloading http://yann.lecun.com/exdb/mnist/t10k-images-idx3-ubyte.gz\n",
            "Downloading http://yann.lecun.com/exdb/mnist/t10k-images-idx3-ubyte.gz to ../Data/MNIST/raw/t10k-images-idx3-ubyte.gz\n"
          ]
        },
        {
          "output_type": "stream",
          "name": "stderr",
          "text": [
            "100%|██████████| 1648877/1648877 [00:00<00:00, 52825727.33it/s]"
          ]
        },
        {
          "output_type": "stream",
          "name": "stdout",
          "text": [
            "Extracting ../Data/MNIST/raw/t10k-images-idx3-ubyte.gz to ../Data/MNIST/raw\n"
          ]
        },
        {
          "output_type": "stream",
          "name": "stderr",
          "text": [
            "\n"
          ]
        },
        {
          "output_type": "stream",
          "name": "stdout",
          "text": [
            "\n",
            "Downloading http://yann.lecun.com/exdb/mnist/t10k-labels-idx1-ubyte.gz\n",
            "Downloading http://yann.lecun.com/exdb/mnist/t10k-labels-idx1-ubyte.gz to ../Data/MNIST/raw/t10k-labels-idx1-ubyte.gz\n"
          ]
        },
        {
          "output_type": "stream",
          "name": "stderr",
          "text": [
            "100%|██████████| 4542/4542 [00:00<00:00, 16310384.22it/s]\n"
          ]
        },
        {
          "output_type": "stream",
          "name": "stdout",
          "text": [
            "Extracting ../Data/MNIST/raw/t10k-labels-idx1-ubyte.gz to ../Data/MNIST/raw\n",
            "\n"
          ]
        }
      ]
    },
    {
      "cell_type": "code",
      "source": [
        "## loading test data\n",
        "test_data = datasets.MNIST(root='../Data',train=False, download=True, transform=transform)"
      ],
      "metadata": {
        "id": "jdAVldwczfgC"
      },
      "execution_count": 4,
      "outputs": []
    },
    {
      "cell_type": "code",
      "source": [
        "## look at train_data\n",
        "train_data"
      ],
      "metadata": {
        "colab": {
          "base_uri": "https://localhost:8080/"
        },
        "id": "SG7gr-0Yz89L",
        "outputId": "20df59f3-b9b7-4a1d-d7d0-2c27341eb573"
      },
      "execution_count": 5,
      "outputs": [
        {
          "output_type": "execute_result",
          "data": {
            "text/plain": [
              "Dataset MNIST\n",
              "    Number of datapoints: 60000\n",
              "    Root location: ../Data\n",
              "    Split: Train\n",
              "    StandardTransform\n",
              "Transform: ToTensor()"
            ]
          },
          "metadata": {},
          "execution_count": 5
        }
      ]
    },
    {
      "cell_type": "code",
      "source": [
        "## look at test_data\n",
        "test_data"
      ],
      "metadata": {
        "colab": {
          "base_uri": "https://localhost:8080/"
        },
        "id": "iJv72g8q0AmA",
        "outputId": "2ad7fd00-18ec-4289-ba22-d1ccea5293e3"
      },
      "execution_count": 6,
      "outputs": [
        {
          "output_type": "execute_result",
          "data": {
            "text/plain": [
              "Dataset MNIST\n",
              "    Number of datapoints: 10000\n",
              "    Root location: ../Data\n",
              "    Split: Test\n",
              "    StandardTransform\n",
              "Transform: ToTensor()"
            ]
          },
          "metadata": {},
          "execution_count": 6
        }
      ]
    },
    {
      "cell_type": "markdown",
      "source": [
        "## 1.1 Image Exploratory Data Analysis (EDA)"
      ],
      "metadata": {
        "id": "DmmftgyK0EIJ"
      }
    },
    {
      "cell_type": "code",
      "source": [
        "## check types\n",
        "type(train_data)"
      ],
      "metadata": {
        "colab": {
          "base_uri": "https://localhost:8080/",
          "height": 203
        },
        "id": "_yytjAXG0DQP",
        "outputId": "216dc197-5083-49b4-85ef-240929159a02"
      },
      "execution_count": 7,
      "outputs": [
        {
          "output_type": "execute_result",
          "data": {
            "text/plain": [
              "torchvision.datasets.mnist.MNIST"
            ],
            "text/html": [
              "<div style=\"max-width:800px; border: 1px solid var(--colab-border-color);\"><style>\n",
              "      pre.function-repr-contents {\n",
              "        overflow-x: auto;\n",
              "        padding: 8px 12px;\n",
              "        max-height: 500px;\n",
              "      }\n",
              "\n",
              "      pre.function-repr-contents.function-repr-contents-collapsed {\n",
              "        cursor: pointer;\n",
              "        max-height: 100px;\n",
              "      }\n",
              "    </style>\n",
              "    <pre style=\"white-space: initial; background:\n",
              "         var(--colab-secondary-surface-color); padding: 8px 12px;\n",
              "         border-bottom: 1px solid var(--colab-border-color);\"><b>torchvision.datasets.mnist.MNIST</b><br/>def __init__(root: str, train: bool=True, transform: Optional[Callable]=None, target_transform: Optional[Callable]=None, download: bool=False) -&gt; None</pre><pre class=\"function-repr-contents function-repr-contents-collapsed\" style=\"\"><a class=\"filepath\" style=\"display:none\" href=\"#\">/usr/local/lib/python3.10/dist-packages/torchvision/datasets/mnist.py</a>`MNIST &lt;http://yann.lecun.com/exdb/mnist/&gt;`_ Dataset.\n",
              "\n",
              "Args:\n",
              "    root (string): Root directory of dataset where ``MNIST/raw/train-images-idx3-ubyte``\n",
              "        and  ``MNIST/raw/t10k-images-idx3-ubyte`` exist.\n",
              "    train (bool, optional): If True, creates dataset from ``train-images-idx3-ubyte``,\n",
              "        otherwise from ``t10k-images-idx3-ubyte``.\n",
              "    download (bool, optional): If True, downloads the dataset from the internet and\n",
              "        puts it in root directory. If dataset is already downloaded, it is not\n",
              "        downloaded again.\n",
              "    transform (callable, optional): A function/transform that  takes in an PIL image\n",
              "        and returns a transformed version. E.g, ``transforms.RandomCrop``\n",
              "    target_transform (callable, optional): A function/transform that takes in the\n",
              "        target and transforms it.</pre>\n",
              "      <script>\n",
              "      if (google.colab.kernel.accessAllowed && google.colab.files && google.colab.files.view) {\n",
              "        for (const element of document.querySelectorAll('.filepath')) {\n",
              "          element.style.display = 'block'\n",
              "          element.onclick = (event) => {\n",
              "            event.preventDefault();\n",
              "            event.stopPropagation();\n",
              "            google.colab.files.view(element.textContent, 19);\n",
              "          };\n",
              "        }\n",
              "      }\n",
              "      for (const element of document.querySelectorAll('.function-repr-contents')) {\n",
              "        element.onclick = (event) => {\n",
              "          event.preventDefault();\n",
              "          event.stopPropagation();\n",
              "          element.classList.toggle('function-repr-contents-collapsed');\n",
              "        };\n",
              "      }\n",
              "      </script>\n",
              "      </div>"
            ]
          },
          "metadata": {},
          "execution_count": 7
        }
      ]
    },
    {
      "cell_type": "markdown",
      "source": [
        "What we see below:\n",
        "* MNIST data was uploaded and transformed into tensors.\n",
        "* We can see the image label at the bottom as `5`"
      ],
      "metadata": {
        "id": "sh_5-d9a0Uik"
      }
    },
    {
      "cell_type": "code",
      "source": [
        "## index train_data\n",
        "train_data[0]"
      ],
      "metadata": {
        "colab": {
          "base_uri": "https://localhost:8080/"
        },
        "id": "GGpacvwH0L0s",
        "outputId": "1d4ca5d3-b2fa-4f35-b8fa-b29912ffa6ee"
      },
      "execution_count": 8,
      "outputs": [
        {
          "output_type": "execute_result",
          "data": {
            "text/plain": [
              "(tensor([[[0.0000, 0.0000, 0.0000, 0.0000, 0.0000, 0.0000, 0.0000, 0.0000,\n",
              "           0.0000, 0.0000, 0.0000, 0.0000, 0.0000, 0.0000, 0.0000, 0.0000,\n",
              "           0.0000, 0.0000, 0.0000, 0.0000, 0.0000, 0.0000, 0.0000, 0.0000,\n",
              "           0.0000, 0.0000, 0.0000, 0.0000],\n",
              "          [0.0000, 0.0000, 0.0000, 0.0000, 0.0000, 0.0000, 0.0000, 0.0000,\n",
              "           0.0000, 0.0000, 0.0000, 0.0000, 0.0000, 0.0000, 0.0000, 0.0000,\n",
              "           0.0000, 0.0000, 0.0000, 0.0000, 0.0000, 0.0000, 0.0000, 0.0000,\n",
              "           0.0000, 0.0000, 0.0000, 0.0000],\n",
              "          [0.0000, 0.0000, 0.0000, 0.0000, 0.0000, 0.0000, 0.0000, 0.0000,\n",
              "           0.0000, 0.0000, 0.0000, 0.0000, 0.0000, 0.0000, 0.0000, 0.0000,\n",
              "           0.0000, 0.0000, 0.0000, 0.0000, 0.0000, 0.0000, 0.0000, 0.0000,\n",
              "           0.0000, 0.0000, 0.0000, 0.0000],\n",
              "          [0.0000, 0.0000, 0.0000, 0.0000, 0.0000, 0.0000, 0.0000, 0.0000,\n",
              "           0.0000, 0.0000, 0.0000, 0.0000, 0.0000, 0.0000, 0.0000, 0.0000,\n",
              "           0.0000, 0.0000, 0.0000, 0.0000, 0.0000, 0.0000, 0.0000, 0.0000,\n",
              "           0.0000, 0.0000, 0.0000, 0.0000],\n",
              "          [0.0000, 0.0000, 0.0000, 0.0000, 0.0000, 0.0000, 0.0000, 0.0000,\n",
              "           0.0000, 0.0000, 0.0000, 0.0000, 0.0000, 0.0000, 0.0000, 0.0000,\n",
              "           0.0000, 0.0000, 0.0000, 0.0000, 0.0000, 0.0000, 0.0000, 0.0000,\n",
              "           0.0000, 0.0000, 0.0000, 0.0000],\n",
              "          [0.0000, 0.0000, 0.0000, 0.0000, 0.0000, 0.0000, 0.0000, 0.0000,\n",
              "           0.0000, 0.0000, 0.0000, 0.0000, 0.0118, 0.0706, 0.0706, 0.0706,\n",
              "           0.4941, 0.5333, 0.6863, 0.1020, 0.6510, 1.0000, 0.9686, 0.4980,\n",
              "           0.0000, 0.0000, 0.0000, 0.0000],\n",
              "          [0.0000, 0.0000, 0.0000, 0.0000, 0.0000, 0.0000, 0.0000, 0.0000,\n",
              "           0.1176, 0.1412, 0.3686, 0.6039, 0.6667, 0.9922, 0.9922, 0.9922,\n",
              "           0.9922, 0.9922, 0.8824, 0.6745, 0.9922, 0.9490, 0.7647, 0.2510,\n",
              "           0.0000, 0.0000, 0.0000, 0.0000],\n",
              "          [0.0000, 0.0000, 0.0000, 0.0000, 0.0000, 0.0000, 0.0000, 0.1922,\n",
              "           0.9333, 0.9922, 0.9922, 0.9922, 0.9922, 0.9922, 0.9922, 0.9922,\n",
              "           0.9922, 0.9843, 0.3647, 0.3216, 0.3216, 0.2196, 0.1529, 0.0000,\n",
              "           0.0000, 0.0000, 0.0000, 0.0000],\n",
              "          [0.0000, 0.0000, 0.0000, 0.0000, 0.0000, 0.0000, 0.0000, 0.0706,\n",
              "           0.8588, 0.9922, 0.9922, 0.9922, 0.9922, 0.9922, 0.7765, 0.7137,\n",
              "           0.9686, 0.9451, 0.0000, 0.0000, 0.0000, 0.0000, 0.0000, 0.0000,\n",
              "           0.0000, 0.0000, 0.0000, 0.0000],\n",
              "          [0.0000, 0.0000, 0.0000, 0.0000, 0.0000, 0.0000, 0.0000, 0.0000,\n",
              "           0.3137, 0.6118, 0.4196, 0.9922, 0.9922, 0.8039, 0.0431, 0.0000,\n",
              "           0.1686, 0.6039, 0.0000, 0.0000, 0.0000, 0.0000, 0.0000, 0.0000,\n",
              "           0.0000, 0.0000, 0.0000, 0.0000],\n",
              "          [0.0000, 0.0000, 0.0000, 0.0000, 0.0000, 0.0000, 0.0000, 0.0000,\n",
              "           0.0000, 0.0549, 0.0039, 0.6039, 0.9922, 0.3529, 0.0000, 0.0000,\n",
              "           0.0000, 0.0000, 0.0000, 0.0000, 0.0000, 0.0000, 0.0000, 0.0000,\n",
              "           0.0000, 0.0000, 0.0000, 0.0000],\n",
              "          [0.0000, 0.0000, 0.0000, 0.0000, 0.0000, 0.0000, 0.0000, 0.0000,\n",
              "           0.0000, 0.0000, 0.0000, 0.5451, 0.9922, 0.7451, 0.0078, 0.0000,\n",
              "           0.0000, 0.0000, 0.0000, 0.0000, 0.0000, 0.0000, 0.0000, 0.0000,\n",
              "           0.0000, 0.0000, 0.0000, 0.0000],\n",
              "          [0.0000, 0.0000, 0.0000, 0.0000, 0.0000, 0.0000, 0.0000, 0.0000,\n",
              "           0.0000, 0.0000, 0.0000, 0.0431, 0.7451, 0.9922, 0.2745, 0.0000,\n",
              "           0.0000, 0.0000, 0.0000, 0.0000, 0.0000, 0.0000, 0.0000, 0.0000,\n",
              "           0.0000, 0.0000, 0.0000, 0.0000],\n",
              "          [0.0000, 0.0000, 0.0000, 0.0000, 0.0000, 0.0000, 0.0000, 0.0000,\n",
              "           0.0000, 0.0000, 0.0000, 0.0000, 0.1373, 0.9451, 0.8824, 0.6275,\n",
              "           0.4235, 0.0039, 0.0000, 0.0000, 0.0000, 0.0000, 0.0000, 0.0000,\n",
              "           0.0000, 0.0000, 0.0000, 0.0000],\n",
              "          [0.0000, 0.0000, 0.0000, 0.0000, 0.0000, 0.0000, 0.0000, 0.0000,\n",
              "           0.0000, 0.0000, 0.0000, 0.0000, 0.0000, 0.3176, 0.9412, 0.9922,\n",
              "           0.9922, 0.4667, 0.0980, 0.0000, 0.0000, 0.0000, 0.0000, 0.0000,\n",
              "           0.0000, 0.0000, 0.0000, 0.0000],\n",
              "          [0.0000, 0.0000, 0.0000, 0.0000, 0.0000, 0.0000, 0.0000, 0.0000,\n",
              "           0.0000, 0.0000, 0.0000, 0.0000, 0.0000, 0.0000, 0.1765, 0.7294,\n",
              "           0.9922, 0.9922, 0.5882, 0.1059, 0.0000, 0.0000, 0.0000, 0.0000,\n",
              "           0.0000, 0.0000, 0.0000, 0.0000],\n",
              "          [0.0000, 0.0000, 0.0000, 0.0000, 0.0000, 0.0000, 0.0000, 0.0000,\n",
              "           0.0000, 0.0000, 0.0000, 0.0000, 0.0000, 0.0000, 0.0000, 0.0627,\n",
              "           0.3647, 0.9882, 0.9922, 0.7333, 0.0000, 0.0000, 0.0000, 0.0000,\n",
              "           0.0000, 0.0000, 0.0000, 0.0000],\n",
              "          [0.0000, 0.0000, 0.0000, 0.0000, 0.0000, 0.0000, 0.0000, 0.0000,\n",
              "           0.0000, 0.0000, 0.0000, 0.0000, 0.0000, 0.0000, 0.0000, 0.0000,\n",
              "           0.0000, 0.9765, 0.9922, 0.9765, 0.2510, 0.0000, 0.0000, 0.0000,\n",
              "           0.0000, 0.0000, 0.0000, 0.0000],\n",
              "          [0.0000, 0.0000, 0.0000, 0.0000, 0.0000, 0.0000, 0.0000, 0.0000,\n",
              "           0.0000, 0.0000, 0.0000, 0.0000, 0.0000, 0.0000, 0.1804, 0.5098,\n",
              "           0.7176, 0.9922, 0.9922, 0.8118, 0.0078, 0.0000, 0.0000, 0.0000,\n",
              "           0.0000, 0.0000, 0.0000, 0.0000],\n",
              "          [0.0000, 0.0000, 0.0000, 0.0000, 0.0000, 0.0000, 0.0000, 0.0000,\n",
              "           0.0000, 0.0000, 0.0000, 0.0000, 0.1529, 0.5804, 0.8980, 0.9922,\n",
              "           0.9922, 0.9922, 0.9804, 0.7137, 0.0000, 0.0000, 0.0000, 0.0000,\n",
              "           0.0000, 0.0000, 0.0000, 0.0000],\n",
              "          [0.0000, 0.0000, 0.0000, 0.0000, 0.0000, 0.0000, 0.0000, 0.0000,\n",
              "           0.0000, 0.0000, 0.0941, 0.4471, 0.8667, 0.9922, 0.9922, 0.9922,\n",
              "           0.9922, 0.7882, 0.3059, 0.0000, 0.0000, 0.0000, 0.0000, 0.0000,\n",
              "           0.0000, 0.0000, 0.0000, 0.0000],\n",
              "          [0.0000, 0.0000, 0.0000, 0.0000, 0.0000, 0.0000, 0.0000, 0.0000,\n",
              "           0.0902, 0.2588, 0.8353, 0.9922, 0.9922, 0.9922, 0.9922, 0.7765,\n",
              "           0.3176, 0.0078, 0.0000, 0.0000, 0.0000, 0.0000, 0.0000, 0.0000,\n",
              "           0.0000, 0.0000, 0.0000, 0.0000],\n",
              "          [0.0000, 0.0000, 0.0000, 0.0000, 0.0000, 0.0000, 0.0706, 0.6706,\n",
              "           0.8588, 0.9922, 0.9922, 0.9922, 0.9922, 0.7647, 0.3137, 0.0353,\n",
              "           0.0000, 0.0000, 0.0000, 0.0000, 0.0000, 0.0000, 0.0000, 0.0000,\n",
              "           0.0000, 0.0000, 0.0000, 0.0000],\n",
              "          [0.0000, 0.0000, 0.0000, 0.0000, 0.2157, 0.6745, 0.8863, 0.9922,\n",
              "           0.9922, 0.9922, 0.9922, 0.9569, 0.5216, 0.0431, 0.0000, 0.0000,\n",
              "           0.0000, 0.0000, 0.0000, 0.0000, 0.0000, 0.0000, 0.0000, 0.0000,\n",
              "           0.0000, 0.0000, 0.0000, 0.0000],\n",
              "          [0.0000, 0.0000, 0.0000, 0.0000, 0.5333, 0.9922, 0.9922, 0.9922,\n",
              "           0.8314, 0.5294, 0.5176, 0.0627, 0.0000, 0.0000, 0.0000, 0.0000,\n",
              "           0.0000, 0.0000, 0.0000, 0.0000, 0.0000, 0.0000, 0.0000, 0.0000,\n",
              "           0.0000, 0.0000, 0.0000, 0.0000],\n",
              "          [0.0000, 0.0000, 0.0000, 0.0000, 0.0000, 0.0000, 0.0000, 0.0000,\n",
              "           0.0000, 0.0000, 0.0000, 0.0000, 0.0000, 0.0000, 0.0000, 0.0000,\n",
              "           0.0000, 0.0000, 0.0000, 0.0000, 0.0000, 0.0000, 0.0000, 0.0000,\n",
              "           0.0000, 0.0000, 0.0000, 0.0000],\n",
              "          [0.0000, 0.0000, 0.0000, 0.0000, 0.0000, 0.0000, 0.0000, 0.0000,\n",
              "           0.0000, 0.0000, 0.0000, 0.0000, 0.0000, 0.0000, 0.0000, 0.0000,\n",
              "           0.0000, 0.0000, 0.0000, 0.0000, 0.0000, 0.0000, 0.0000, 0.0000,\n",
              "           0.0000, 0.0000, 0.0000, 0.0000],\n",
              "          [0.0000, 0.0000, 0.0000, 0.0000, 0.0000, 0.0000, 0.0000, 0.0000,\n",
              "           0.0000, 0.0000, 0.0000, 0.0000, 0.0000, 0.0000, 0.0000, 0.0000,\n",
              "           0.0000, 0.0000, 0.0000, 0.0000, 0.0000, 0.0000, 0.0000, 0.0000,\n",
              "           0.0000, 0.0000, 0.0000, 0.0000]]]),\n",
              " 5)"
            ]
          },
          "metadata": {},
          "execution_count": 8
        }
      ]
    },
    {
      "cell_type": "markdown",
      "source": [
        "We can see this is actually a tuple!"
      ],
      "metadata": {
        "id": "wB7zz8kA0iMv"
      }
    },
    {
      "cell_type": "code",
      "source": [
        "## check type\n",
        "type(train_data[0])"
      ],
      "metadata": {
        "colab": {
          "base_uri": "https://localhost:8080/"
        },
        "id": "dKxEf0hU0Ri-",
        "outputId": "eb89b8da-38e3-4afd-c7fe-de00cea7264f"
      },
      "execution_count": 9,
      "outputs": [
        {
          "output_type": "execute_result",
          "data": {
            "text/plain": [
              "tuple"
            ]
          },
          "metadata": {},
          "execution_count": 9
        }
      ]
    },
    {
      "cell_type": "markdown",
      "source": [
        "## Let's unpack the tuple"
      ],
      "metadata": {
        "id": "892_wnvX0ljG"
      }
    },
    {
      "cell_type": "code",
      "source": [
        "image, label = train_data[0]"
      ],
      "metadata": {
        "id": "jWvrUIqp0hGn"
      },
      "execution_count": 10,
      "outputs": []
    },
    {
      "cell_type": "code",
      "source": [
        "image.shape"
      ],
      "metadata": {
        "colab": {
          "base_uri": "https://localhost:8080/"
        },
        "id": "GG7ankTU0osd",
        "outputId": "67525828-bb1a-43a0-f40b-54a223598d96"
      },
      "execution_count": 11,
      "outputs": [
        {
          "output_type": "execute_result",
          "data": {
            "text/plain": [
              "torch.Size([1, 28, 28])"
            ]
          },
          "metadata": {},
          "execution_count": 11
        }
      ]
    },
    {
      "cell_type": "markdown",
      "source": [
        "summary:\n",
        "* `1` - gray scale image - single color channel (black/white)\n",
        "* 28 height\n",
        "* 28 width"
      ],
      "metadata": {
        "id": "TuHZO2h10rfa"
      }
    },
    {
      "cell_type": "code",
      "source": [
        "## check label\n",
        "label"
      ],
      "metadata": {
        "colab": {
          "base_uri": "https://localhost:8080/"
        },
        "id": "8fs3COWm0ppt",
        "outputId": "42b794a3-3e88-4609-d87e-f79080c9f16f"
      },
      "execution_count": 12,
      "outputs": [
        {
          "output_type": "execute_result",
          "data": {
            "text/plain": [
              "5"
            ]
          },
          "metadata": {},
          "execution_count": 12
        }
      ]
    },
    {
      "cell_type": "markdown",
      "source": [
        "# Step 2: Data Visualization\n",
        "* Note:\n",
        "  * We need to drop the color channel (1) noting its a gray scale image by reshaping the tensor in order to visualize.\n",
        "  * The default color will be `Viridis`, therefore if this is gray scale we need to provide a color mapping to offset the default."
      ],
      "metadata": {
        "id": "pnBzrQSX1KwO"
      }
    },
    {
      "cell_type": "code",
      "source": [
        "## visualize - reshape tensor by dropping the color channel (1)\n",
        "plt.imshow(image.reshape((28,28)),cmap='gist_yarg') # can use `gray' or `gist_yarg' to invert\n",
        "plt.title(\"Train Data [0] Image Plot\");"
      ],
      "metadata": {
        "colab": {
          "base_uri": "https://localhost:8080/",
          "height": 452
        },
        "id": "_oLq5Xxj1KCw",
        "outputId": "25ddd1e6-9d0f-41b2-d296-54fb17475e68"
      },
      "execution_count": 13,
      "outputs": [
        {
          "output_type": "display_data",
          "data": {
            "text/plain": [
              "<Figure size 640x480 with 1 Axes>"
            ],
            "image/png": "[encoded data removed]"
          },
          "metadata": {}
        }
      ]
    },
    {
      "cell_type": "markdown",
      "source": [
        "# Step 3 - Build DataLoaders\n",
        "* We will need to set up batches because your dataset is so large."
      ],
      "metadata": {
        "id": "foVs1fQd2k7L"
      }
    },
    {
      "cell_type": "code",
      "source": [
        "## set manual seed\n",
        "torch.manual_seed(101)\n",
        "\n",
        "## train dataloader\n",
        "## set up `shuffle` so NN does not memorize data order\n",
        "train_loader = DataLoader(train_data, batch_size=100, shuffle=True)\n",
        "\n",
        "## test dataloader\n",
        "## No shuffling of the test data since it is the validation set\n",
        "test_loader = DataLoader(test_data, batch_size=500, shuffle=False)"
      ],
      "metadata": {
        "id": "eb7x9lxb18co"
      },
      "execution_count": 14,
      "outputs": []
    },
    {
      "cell_type": "code",
      "source": [
        "## make a grid\n",
        "from torchvision.utils import make_grid\n",
        "# function to format the grid\n",
        "np.set_printoptions(formatter=dict(int=lambda x: f'{x:4}'))"
      ],
      "metadata": {
        "id": "vaXTUM_43L2X"
      },
      "execution_count": 15,
      "outputs": []
    },
    {
      "cell_type": "code",
      "source": [
        "# FIRST BATCH of images\n",
        "for images, labels in train_loader:\n",
        "  # 60,000 / 100 = 60 times loop runs\n",
        "  # we only want FIRST BATCH\n",
        "  break"
      ],
      "metadata": {
        "id": "IyLbrG0j3ggB"
      },
      "execution_count": 16,
      "outputs": []
    },
    {
      "cell_type": "code",
      "source": [
        "images"
      ],
      "metadata": {
        "colab": {
          "base_uri": "https://localhost:8080/"
        },
        "id": "Nsx2_Wru3ucU",
        "outputId": "9effc916-62e9-4280-8630-b0a3cfcb463e"
      },
      "execution_count": 17,
      "outputs": [
        {
          "output_type": "execute_result",
          "data": {
            "text/plain": [
              "tensor([[[[0., 0., 0.,  ..., 0., 0., 0.],\n",
              "          [0., 0., 0.,  ..., 0., 0., 0.],\n",
              "          [0., 0., 0.,  ..., 0., 0., 0.],\n",
              "          ...,\n",
              "          [0., 0., 0.,  ..., 0., 0., 0.],\n",
              "          [0., 0., 0.,  ..., 0., 0., 0.],\n",
              "          [0., 0., 0.,  ..., 0., 0., 0.]]],\n",
              "\n",
              "\n",
              "        [[[0., 0., 0.,  ..., 0., 0., 0.],\n",
              "          [0., 0., 0.,  ..., 0., 0., 0.],\n",
              "          [0., 0., 0.,  ..., 0., 0., 0.],\n",
              "          ...,\n",
              "          [0., 0., 0.,  ..., 0., 0., 0.],\n",
              "          [0., 0., 0.,  ..., 0., 0., 0.],\n",
              "          [0., 0., 0.,  ..., 0., 0., 0.]]],\n",
              "\n",
              "\n",
              "        [[[0., 0., 0.,  ..., 0., 0., 0.],\n",
              "          [0., 0., 0.,  ..., 0., 0., 0.],\n",
              "          [0., 0., 0.,  ..., 0., 0., 0.],\n",
              "          ...,\n",
              "          [0., 0., 0.,  ..., 0., 0., 0.],\n",
              "          [0., 0., 0.,  ..., 0., 0., 0.],\n",
              "          [0., 0., 0.,  ..., 0., 0., 0.]]],\n",
              "\n",
              "\n",
              "        ...,\n",
              "\n",
              "\n",
              "        [[[0., 0., 0.,  ..., 0., 0., 0.],\n",
              "          [0., 0., 0.,  ..., 0., 0., 0.],\n",
              "          [0., 0., 0.,  ..., 0., 0., 0.],\n",
              "          ...,\n",
              "          [0., 0., 0.,  ..., 0., 0., 0.],\n",
              "          [0., 0., 0.,  ..., 0., 0., 0.],\n",
              "          [0., 0., 0.,  ..., 0., 0., 0.]]],\n",
              "\n",
              "\n",
              "        [[[0., 0., 0.,  ..., 0., 0., 0.],\n",
              "          [0., 0., 0.,  ..., 0., 0., 0.],\n",
              "          [0., 0., 0.,  ..., 0., 0., 0.],\n",
              "          ...,\n",
              "          [0., 0., 0.,  ..., 0., 0., 0.],\n",
              "          [0., 0., 0.,  ..., 0., 0., 0.],\n",
              "          [0., 0., 0.,  ..., 0., 0., 0.]]],\n",
              "\n",
              "\n",
              "        [[[0., 0., 0.,  ..., 0., 0., 0.],\n",
              "          [0., 0., 0.,  ..., 0., 0., 0.],\n",
              "          [0., 0., 0.,  ..., 0., 0., 0.],\n",
              "          ...,\n",
              "          [0., 0., 0.,  ..., 0., 0., 0.],\n",
              "          [0., 0., 0.,  ..., 0., 0., 0.],\n",
              "          [0., 0., 0.,  ..., 0., 0., 0.]]]])"
            ]
          },
          "metadata": {},
          "execution_count": 17
        }
      ]
    },
    {
      "cell_type": "code",
      "source": [
        "# shape\n",
        "images.shape"
      ],
      "metadata": {
        "colab": {
          "base_uri": "https://localhost:8080/"
        },
        "id": "_TI0SiZZ3vUb",
        "outputId": "aec50e13-e866-46a0-ec33-18bb25b3ce14"
      },
      "execution_count": 18,
      "outputs": [
        {
          "output_type": "execute_result",
          "data": {
            "text/plain": [
              "torch.Size([100, 1, 28, 28])"
            ]
          },
          "metadata": {},
          "execution_count": 18
        }
      ]
    },
    {
      "cell_type": "markdown",
      "source": [
        "Summary:\n",
        "* We just printed a 1D tensor which is the FIRST BATCH of data.\n",
        "* 100 images\n",
        "* 1 color channel (grayscale)\n",
        "* size= 28x28"
      ],
      "metadata": {
        "id": "qDx9eewo30Ae"
      }
    },
    {
      "cell_type": "code",
      "source": [
        "## labels shape\n",
        "labels.shape"
      ],
      "metadata": {
        "colab": {
          "base_uri": "https://localhost:8080/"
        },
        "id": "lf9lq_IX3yOq",
        "outputId": "2ace3bd2-7872-4bf7-8cf0-27a07b0c6e10"
      },
      "execution_count": 19,
      "outputs": [
        {
          "output_type": "execute_result",
          "data": {
            "text/plain": [
              "torch.Size([100])"
            ]
          },
          "metadata": {},
          "execution_count": 19
        }
      ]
    },
    {
      "cell_type": "markdown",
      "source": [
        "### 3.1 Look at labels for dataset"
      ],
      "metadata": {
        "id": "1ef0opRJ4M3J"
      }
    },
    {
      "cell_type": "code",
      "source": [
        "# print first 12 labels\n",
        "print('Labels: ', labels[:12].numpy())"
      ],
      "metadata": {
        "colab": {
          "base_uri": "https://localhost:8080/"
        },
        "id": "L2IgYEUl39je",
        "outputId": "8663851a-7c85-45d3-b5be-f5206dfb3ba7"
      },
      "execution_count": 20,
      "outputs": [
        {
          "output_type": "stream",
          "name": "stdout",
          "text": [
            "Labels:  [   7    2    3    5    8    5    3    6    9    9    1    3]\n"
          ]
        }
      ]
    },
    {
      "cell_type": "markdown",
      "source": [
        "Note:\n",
        "* We are going to need to transpose the images from CWH (color width height) to WHC (width height color)\n",
        "* Matplotlib and imshow need the WHC format"
      ],
      "metadata": {
        "id": "e7NQTTAd5Nj9"
      }
    },
    {
      "cell_type": "code",
      "source": [
        "# print first 12 labels\n",
        "print('Labels: ', labels[:12].numpy())\n",
        "# print first 12 images\n",
        "im = make_grid(images[:12], nrow=12) # default nrow is 8\n",
        "plt.figure(figsize=(12,4))\n",
        "# we need to transpose images from CWH (color, width, height) to WHC (width, height, color)\n",
        "plt.imshow(np.transpose(im.numpy(), (1,2,0)));"
      ],
      "metadata": {
        "colab": {
          "base_uri": "https://localhost:8080/",
          "height": 164
        },
        "id": "B8npEnWJ4dw0",
        "outputId": "5c135c3f-2dea-4a2c-c6be-3fece55b29c7"
      },
      "execution_count": 21,
      "outputs": [
        {
          "output_type": "stream",
          "name": "stdout",
          "text": [
            "Labels:  [   7    2    3    5    8    5    3    6    9    9    1    3]\n"
          ]
        },
        {
          "output_type": "display_data",
          "data": {
            "text/plain": [
              "<Figure size 1200x400 with 1 Axes>"
            ],
            "image/png": "[encoded data removed]"
          },
          "metadata": {}
        }
      ]
    },
    {
      "cell_type": "markdown",
      "source": [
        "Summary:\n",
        "* We can see some of the image data is not pristine and the neural network may improperly label the data."
      ],
      "metadata": {
        "id": "jLDgRZ8m5iMu"
      }
    },
    {
      "cell_type": "markdown",
      "source": [
        "# Step 4 - Build Perceptron model"
      ],
      "metadata": {
        "id": "2ZCVY16w5zgP"
      }
    },
    {
      "cell_type": "code",
      "source": [
        "class MultilayerPerceptron(nn.Module):\n",
        "\n",
        "  def __init__(self,in_sz=784,out_sz=10,layers=[120,84]):\n",
        "    # instantiate nn module\n",
        "    super().__init__()\n",
        "    # fully connected layer 1 = fc1\n",
        "    self.fc1 = nn.Linear(in_sz,layers[0])\n",
        "    self.fc2 = nn.Linear(layers[0],layers[1])\n",
        "    self.fc3 = nn.Linear(layers[1], out_sz)\n",
        "\n",
        "  #forward method\n",
        "  def forward(self,X):\n",
        "\n",
        "    X = F.relu(self.fc1(X))\n",
        "    X = F.relu(self.fc2(X))\n",
        "    X = self.fc3(X) #no ReLU\n",
        "\n",
        "    return F.log_softmax(X,dim=1) #MULTI-CLASS CLASSIFICATION"
      ],
      "metadata": {
        "id": "6PT9AGge4yvg"
      },
      "execution_count": 22,
      "outputs": []
    },
    {
      "cell_type": "code",
      "source": [
        "## SET SEED\n",
        "torch.manual_seed(101)\n",
        "model = MultilayerPerceptron()\n",
        "model"
      ],
      "metadata": {
        "colab": {
          "base_uri": "https://localhost:8080/"
        },
        "id": "GoQn8ijG6_PV",
        "outputId": "48dfdbea-31f3-474d-b2d9-30e02d434813"
      },
      "execution_count": 23,
      "outputs": [
        {
          "output_type": "execute_result",
          "data": {
            "text/plain": [
              "MultilayerPerceptron(\n",
              "  (fc1): Linear(in_features=784, out_features=120, bias=True)\n",
              "  (fc2): Linear(in_features=120, out_features=84, bias=True)\n",
              "  (fc3): Linear(in_features=84, out_features=10, bias=True)\n",
              ")"
            ]
          },
          "metadata": {},
          "execution_count": 23
        }
      ]
    },
    {
      "cell_type": "markdown",
      "source": [
        "#### Print out all model parameters"
      ],
      "metadata": {
        "id": "lC4i5Ga57Y5j"
      }
    },
    {
      "cell_type": "code",
      "source": [
        "# ANN ----> CNN\n",
        "for param in model.parameters():\n",
        "  print(param.numel())"
      ],
      "metadata": {
        "colab": {
          "base_uri": "https://localhost:8080/"
        },
        "id": "O_EmKVc67GEm",
        "outputId": "64a91d1d-bbc8-4444-e1b9-12e37fcb4a9b"
      },
      "execution_count": 24,
      "outputs": [
        {
          "output_type": "stream",
          "name": "stdout",
          "text": [
            "94080\n",
            "120\n",
            "10080\n",
            "84\n",
            "840\n",
            "10\n"
          ]
        }
      ]
    },
    {
      "cell_type": "markdown",
      "source": [
        "Summary:\n",
        "* We can see these parameters above that if we were to sum them up we would get a total of 105,214 parameters!\n",
        "* This is why we will move to a more efficient CNN or Convolutional Neural Network later on as it is not only more efficient but handles image data better with less parameters."
      ],
      "metadata": {
        "id": "Q_2B_6JX7fWG"
      }
    },
    {
      "cell_type": "markdown",
      "source": [
        "### Define loss function + optimizer"
      ],
      "metadata": {
        "id": "WiJUzbir72WZ"
      }
    },
    {
      "cell_type": "code",
      "source": [
        "criterion = nn.CrossEntropyLoss()\n",
        "optimizer = torch.optim.Adam(model.parameters(),lr=0.001)"
      ],
      "metadata": {
        "id": "blqFdkgd7WYO"
      },
      "execution_count": 25,
      "outputs": []
    },
    {
      "cell_type": "markdown",
      "source": [
        "### How are we going to flatten out the training data?\n",
        "* Recall that the shape of the images is right now is 100 x 1 x 28 x 28, we need to flatten this to be able to process in a neural network.\n",
        "* We want to multiply the last 3 dimensions (1x28x28)"
      ],
      "metadata": {
        "id": "HfjQxTYA8AO7"
      }
    },
    {
      "cell_type": "code",
      "source": [
        "## recall shape\n",
        "images.shape  ## need to convert ---->[100,784]"
      ],
      "metadata": {
        "colab": {
          "base_uri": "https://localhost:8080/"
        },
        "id": "iwqDaagf7_Jg",
        "outputId": "23956ec2-995a-4b9d-ea4b-858e404078cd"
      },
      "execution_count": 26,
      "outputs": [
        {
          "output_type": "execute_result",
          "data": {
            "text/plain": [
              "torch.Size([100, 1, 28, 28])"
            ]
          },
          "metadata": {},
          "execution_count": 26
        }
      ]
    },
    {
      "cell_type": "markdown",
      "source": [
        "What is the quickest way to do this? Use `view`"
      ],
      "metadata": {
        "id": "IXc8Dl388Zrd"
      }
    },
    {
      "cell_type": "code",
      "source": [
        "images.view(100,-1)"
      ],
      "metadata": {
        "colab": {
          "base_uri": "https://localhost:8080/"
        },
        "id": "KgAtkROZ8Pd9",
        "outputId": "c9fd840c-b184-4752-fb3b-a1ddcb48add6"
      },
      "execution_count": 27,
      "outputs": [
        {
          "output_type": "execute_result",
          "data": {
            "text/plain": [
              "tensor([[0., 0., 0.,  ..., 0., 0., 0.],\n",
              "        [0., 0., 0.,  ..., 0., 0., 0.],\n",
              "        [0., 0., 0.,  ..., 0., 0., 0.],\n",
              "        ...,\n",
              "        [0., 0., 0.,  ..., 0., 0., 0.],\n",
              "        [0., 0., 0.,  ..., 0., 0., 0.],\n",
              "        [0., 0., 0.,  ..., 0., 0., 0.]])"
            ]
          },
          "metadata": {},
          "execution_count": 27
        }
      ]
    },
    {
      "cell_type": "code",
      "source": [
        "## check shape of above\n",
        "images.view(100,-1).shape"
      ],
      "metadata": {
        "colab": {
          "base_uri": "https://localhost:8080/"
        },
        "id": "dkT0GL2S8eoA",
        "outputId": "3407a7e0-ed4d-4b66-d6f5-4007c4b5b9a9"
      },
      "execution_count": 28,
      "outputs": [
        {
          "output_type": "execute_result",
          "data": {
            "text/plain": [
              "torch.Size([100, 784])"
            ]
          },
          "metadata": {},
          "execution_count": 28
        }
      ]
    },
    {
      "cell_type": "markdown",
      "source": [
        "Summary:\n",
        "* We can see we just compressed this from 1x4 to 1x2.\n",
        "* Note, view is similar to `reshape` in numpy. It is not the same as squeeze or unsqueeze."
      ],
      "metadata": {
        "id": "smVg53uu8kvi"
      }
    },
    {
      "cell_type": "markdown",
      "source": [
        "# Step 5 - Training the model"
      ],
      "metadata": {
        "id": "7e8hU9BK9ofE"
      }
    },
    {
      "cell_type": "code",
      "source": [
        "## import time\n",
        "\n",
        "##starting timer for training duration\n",
        "import time\n",
        "start_time = time.time()\n",
        "\n",
        "\n",
        "# TRAINING\n",
        "epochs = 20 # this is up to you\n",
        "\n",
        "# TRACKERS - these are optional\n",
        "train_losses = []\n",
        "test_losses = []\n",
        "train_correct = []\n",
        "test_correct = []\n",
        "\n",
        "# ACTUAL TRAINING\n",
        "for i in range(epochs):\n",
        "\n",
        "  trn_corr = 0\n",
        "  tst_corr = 0\n",
        "\n",
        "  for b, (X_train, y_train) in enumerate(train_loader):\n",
        "\n",
        "      b+=1\n",
        "      # predictions and flatten out the data with view()\n",
        "      # last layer has 10 neurons [0.1, 0.0,......0.8] -> 9\n",
        "      y_pred = model(X_train.view(100,-1))\n",
        "      loss = criterion(y_pred, y_train)\n",
        "\n",
        "      #optional calculation\n",
        "      # this indexes the max value of the prediction probabilities\n",
        "      #batch_corr is \"batch correct\"\n",
        "      predicted = torch.max(y_pred.data,1)[1]\n",
        "      batch_corr = (predicted == y_train).sum() ## how many matches do we have that are equal to the predicted val\n",
        "      trn_corr += batch_corr\n",
        "\n",
        "      # Calculate losses\n",
        "      #train_loss = calculate_train_loss()\n",
        "      #test_loss = calculate_test_loss()\n",
        "\n",
        "\n",
        "\n",
        "\n",
        "      # update parameters\n",
        "      optimizer.zero_grad()\n",
        "      loss.backward()\n",
        "      optimizer.step()\n",
        "\n",
        "      # print results during training\n",
        "      if b%200 == 0:\n",
        "        acc = trn_corr.item()*100/(100*b)\n",
        "        print(f'Epoch {i} | batch{b} | loss:{loss.item()} | accuracy:{acc}')\n",
        "\n",
        "\n",
        "  # updated losses\n",
        "  train_losses.append(loss.item())\n",
        "  train_correct.append(trn_corr.item())\n",
        "\n",
        "\n",
        "  #testing loop\n",
        "  with torch.no_grad():\n",
        "\n",
        "      for b, (X_test, y_test) in enumerate(test_loader):\n",
        "\n",
        "          y_val = model(X_test.view(500,-1))\n",
        "\n",
        "          predicted = torch.max(y_val.data,1)[-1]\n",
        "          tst_corr += (predicted==y_test).sum()\n",
        "\n",
        "  loss = criterion(y_val, y_test)\n",
        "  test_losses.append(loss)\n",
        "  test_correct.append(tst_corr)\n",
        "\n",
        "total_time = time.time() - start_time\n",
        "print(f'Duration: {total_time/60} mins')"
      ],
      "metadata": {
        "colab": {
          "base_uri": "https://localhost:8080/"
        },
        "id": "R2dGOcJi9Co8",
        "outputId": "a155b1cd-ea87-48f4-ca02-73e0d0e17567"
      },
      "execution_count": 38,
      "outputs": [
        {
          "output_type": "stream",
          "name": "stdout",
          "text": [
            "Epoch 0 | batch200 | loss:0.000643752864561975 | accuracy:99.88\n",
            "Epoch 0 | batch400 | loss:0.00011634788825176656 | accuracy:99.93\n",
            "Epoch 0 | batch600 | loss:0.04884080961346626 | accuracy:99.925\n",
            "Epoch 1 | batch200 | loss:0.00017996931273955852 | accuracy:99.935\n",
            "Epoch 1 | batch400 | loss:0.0005591813824139535 | accuracy:99.8825\n",
            "Epoch 1 | batch600 | loss:0.00031807099003344774 | accuracy:99.84833333333333\n",
            "Epoch 2 | batch200 | loss:0.000752305961214006 | accuracy:99.94\n",
            "Epoch 2 | batch400 | loss:0.0001837748714024201 | accuracy:99.945\n",
            "Epoch 2 | batch600 | loss:5.282960046315566e-05 | accuracy:99.90333333333334\n",
            "Epoch 3 | batch200 | loss:0.013393406756222248 | accuracy:99.8\n",
            "Epoch 3 | batch400 | loss:0.003878046525642276 | accuracy:99.805\n",
            "Epoch 3 | batch600 | loss:0.0074710785411298275 | accuracy:99.8\n",
            "Epoch 4 | batch200 | loss:0.003559167729690671 | accuracy:99.895\n",
            "Epoch 4 | batch400 | loss:0.0014224870828911662 | accuracy:99.86\n",
            "Epoch 4 | batch600 | loss:0.0013170614838600159 | accuracy:99.81833333333333\n",
            "Epoch 5 | batch200 | loss:5.158901331014931e-05 | accuracy:99.895\n",
            "Epoch 5 | batch400 | loss:0.009741130284965038 | accuracy:99.8925\n",
            "Epoch 5 | batch600 | loss:6.781589763704687e-05 | accuracy:99.87833333333333\n",
            "Epoch 6 | batch200 | loss:2.5565614123479463e-05 | accuracy:99.905\n",
            "Epoch 6 | batch400 | loss:0.0004090934235136956 | accuracy:99.8725\n",
            "Epoch 6 | batch600 | loss:0.034167807549238205 | accuracy:99.83833333333334\n",
            "Epoch 7 | batch200 | loss:0.00011889012239407748 | accuracy:99.89\n",
            "Epoch 7 | batch400 | loss:1.811818583519198e-05 | accuracy:99.9375\n",
            "Epoch 7 | batch600 | loss:0.002298345323652029 | accuracy:99.94333333333333\n",
            "Epoch 8 | batch200 | loss:5.445788701763377e-06 | accuracy:99.985\n",
            "Epoch 8 | batch400 | loss:0.0002781662333291024 | accuracy:99.9925\n",
            "Epoch 8 | batch600 | loss:0.00021584406204055995 | accuracy:99.995\n",
            "Epoch 9 | batch200 | loss:1.2392843018460553e-05 | accuracy:100.0\n",
            "Epoch 9 | batch400 | loss:2.842516369128134e-05 | accuracy:100.0\n",
            "Epoch 9 | batch600 | loss:3.750971518456936e-05 | accuracy:100.0\n",
            "Epoch 10 | batch200 | loss:4.729528427560581e-06 | accuracy:100.0\n",
            "Epoch 10 | batch400 | loss:1.4543174984282814e-06 | accuracy:100.0\n",
            "Epoch 10 | batch600 | loss:2.1006779206800275e-05 | accuracy:100.0\n",
            "Epoch 11 | batch200 | loss:2.4301438315887935e-05 | accuracy:100.0\n",
            "Epoch 11 | batch400 | loss:2.4257813038275344e-06 | accuracy:100.0\n",
            "Epoch 11 | batch600 | loss:2.881181444536196e-06 | accuracy:100.0\n",
            "Epoch 12 | batch200 | loss:1.0998803190886974e-05 | accuracy:100.0\n",
            "Epoch 12 | batch400 | loss:7.092787086548924e-07 | accuracy:100.0\n",
            "Epoch 12 | batch600 | loss:7.468830062862253e-06 | accuracy:100.0\n",
            "Epoch 13 | batch200 | loss:7.857134733058047e-06 | accuracy:100.0\n",
            "Epoch 13 | batch400 | loss:5.708078788302373e-06 | accuracy:100.0\n",
            "Epoch 13 | batch600 | loss:1.7177668496515253e-06 | accuracy:100.0\n",
            "Epoch 14 | batch200 | loss:5.418158252723515e-06 | accuracy:100.0\n",
            "Epoch 14 | batch400 | loss:1.0451547495904379e-05 | accuracy:100.0\n",
            "Epoch 14 | batch600 | loss:2.058806421700865e-05 | accuracy:100.0\n",
            "Epoch 15 | batch200 | loss:5.447615876619238e-06 | accuracy:100.0\n",
            "Epoch 15 | batch400 | loss:2.472240112183499e-06 | accuracy:100.0\n",
            "Epoch 15 | batch600 | loss:1.7558459148858674e-06 | accuracy:100.0\n",
            "Epoch 16 | batch200 | loss:1.550598790345248e-05 | accuracy:100.0\n",
            "Epoch 16 | batch400 | loss:1.2297082321310882e-05 | accuracy:100.0\n",
            "Epoch 16 | batch600 | loss:1.6652790009175078e-06 | accuracy:100.0\n",
            "Epoch 17 | batch200 | loss:1.1720117072400171e-05 | accuracy:100.0\n",
            "Epoch 17 | batch400 | loss:8.800471732683945e-06 | accuracy:100.0\n",
            "Epoch 17 | batch600 | loss:7.655837180209346e-06 | accuracy:100.0\n",
            "Epoch 18 | batch200 | loss:5.602764758805279e-07 | accuracy:100.0\n",
            "Epoch 18 | batch400 | loss:5.865053367415385e-07 | accuracy:100.0\n",
            "Epoch 18 | batch600 | loss:2.3052839424053673e-06 | accuracy:100.0\n",
            "Epoch 19 | batch200 | loss:2.977601525344653e-06 | accuracy:100.0\n",
            "Epoch 19 | batch400 | loss:9.047794264915865e-07 | accuracy:100.0\n",
            "Epoch 19 | batch600 | loss:8.453181180811953e-06 | accuracy:100.0\n",
            "Duration: 3.643213617801666 mins\n"
          ]
        }
      ]
    },
    {
      "cell_type": "markdown",
      "source": [
        "# Step 6 - Evaluation"
      ],
      "metadata": {
        "id": "WhrOZSfUBYCS"
      }
    },
    {
      "cell_type": "code",
      "source": [
        "## begin by plotting losses vs. accuracy for train vs. test\n",
        "plt.plot(train_losses, label='Training Loss')\n",
        "plt.plot(test_losses, label='Test/Validation Loss')\n",
        "plt.legend()\n",
        "plt.title(\"Model Training loss vs. Test/Validation loss\");\n",
        "plt.show();"
      ],
      "metadata": {
        "colab": {
          "base_uri": "https://localhost:8080/",
          "height": 452
        },
        "id": "r2ZHMzhNAwAE",
        "outputId": "946d6b18-d99b-4928-eba5-ce9a9586c400"
      },
      "execution_count": 40,
      "outputs": [
        {
          "output_type": "display_data",
          "data": {
            "text/plain": [
              "<Figure size 640x480 with 1 Axes>"
            ],
            "image/png": "[encoded data removed]"
          },
          "metadata": {}
        }
      ]
    },
    {
      "cell_type": "markdown",
      "source": [
        "Summary:\n",
        "* The training loss remained low throughout.\n",
        "* The test loss was rather high and with more epochs kept getting higher. This means the model is **underfitting** the data and the model itself may not be complex enough to learn the patterns in the dataset.\n",
        "* The test set does not get to adjust its weights and biases."
      ],
      "metadata": {
        "id": "tb-AHLkEykoV"
      }
    },
    {
      "cell_type": "code",
      "source": [
        "train_acc = [t/600 for t in train_correct]\n",
        "train_acc"
      ],
      "metadata": {
        "colab": {
          "base_uri": "https://localhost:8080/"
        },
        "id": "zmvRx6fNvDRd",
        "outputId": "c8ef6b2f-4d53-4b4f-9f1c-6f6b520d48d1"
      },
      "execution_count": 44,
      "outputs": [
        {
          "output_type": "execute_result",
          "data": {
            "text/plain": [
              "[99.925,\n",
              " 99.84833333333333,\n",
              " 99.90333333333334,\n",
              " 99.8,\n",
              " 99.81833333333333,\n",
              " 99.87833333333333,\n",
              " 99.83833333333334,\n",
              " 99.94333333333333,\n",
              " 99.995,\n",
              " 100.0,\n",
              " 100.0,\n",
              " 100.0,\n",
              " 100.0,\n",
              " 100.0,\n",
              " 100.0,\n",
              " 100.0,\n",
              " 100.0,\n",
              " 100.0,\n",
              " 100.0,\n",
              " 100.0]"
            ]
          },
          "metadata": {},
          "execution_count": 44
        }
      ]
    },
    {
      "cell_type": "code",
      "source": [
        "test_acc = [t/100 for t in test_correct] #100 is batch size\n",
        "test_acc"
      ],
      "metadata": {
        "colab": {
          "base_uri": "https://localhost:8080/"
        },
        "id": "mGcnxaz60Nk8",
        "outputId": "bad77f50-43db-4604-8895-d5d18dd74256"
      },
      "execution_count": 45,
      "outputs": [
        {
          "output_type": "execute_result",
          "data": {
            "text/plain": [
              "[tensor(97.8400),\n",
              " tensor(97.7700),\n",
              " tensor(97.6000),\n",
              " tensor(97.9700),\n",
              " tensor(97.6600),\n",
              " tensor(98.0400),\n",
              " tensor(97.7800),\n",
              " tensor(97.9700),\n",
              " tensor(98.0800),\n",
              " tensor(98.1700),\n",
              " tensor(98.1400),\n",
              " tensor(98.1400),\n",
              " tensor(98.1100),\n",
              " tensor(98.1100),\n",
              " tensor(98.1600),\n",
              " tensor(98.1500),\n",
              " tensor(98.1700),\n",
              " tensor(98.1700),\n",
              " tensor(98.1800),\n",
              " tensor(98.1600)]"
            ]
          },
          "metadata": {},
          "execution_count": 45
        }
      ]
    },
    {
      "cell_type": "code",
      "source": [
        "# plot these accuracies over time\n",
        "plt.plot(train_acc, label='train acc')\n",
        "plt.plot(test_acc, label = 'test acc')\n",
        "plt.legend()\n",
        "plt.title(\"Plot of train accuracy vs. test accuracy\");"
      ],
      "metadata": {
        "colab": {
          "base_uri": "https://localhost:8080/",
          "height": 452
        },
        "id": "GDT6gIs-0cKU",
        "outputId": "74cf733d-c219-4406-a81a-9952e2c78e35"
      },
      "execution_count": 46,
      "outputs": [
        {
          "output_type": "display_data",
          "data": {
            "text/plain": [
              "<Figure size 640x480 with 1 Axes>"
            ],
            "image/png": "[encoded data removed]"
          },
          "metadata": {}
        }
      ]
    },
    {
      "cell_type": "markdown",
      "source": [
        "Summary:\n",
        "* Train accuracy was perfect\n",
        "* Test accuracy was not, this is because the test set can not adjust its weights and biases.\n",
        "* We can see after about 8 epochs the model levels off for both train and test."
      ],
      "metadata": {
        "id": "nfUweGw_0uJ-"
      }
    },
    {
      "cell_type": "markdown",
      "source": [
        "## How can I run new unseen image data through my new image neural network model?"
      ],
      "metadata": {
        "id": "iwuoZX1E08A-"
      }
    },
    {
      "cell_type": "code",
      "source": [
        "# new unseen data\n",
        "\n",
        "test_load_all = DataLoader(test_data, batch_size=10000,shuffle=False)"
      ],
      "metadata": {
        "id": "hkQ_d3aw0rKN"
      },
      "execution_count": 47,
      "outputs": []
    },
    {
      "cell_type": "code",
      "source": [
        "## eval new unseen images\n",
        "with torch.no_grad():\n",
        "  correct = 0\n",
        "\n",
        "  for X_test, y_test in test_load_all:\n",
        "      y_val = model(X_test.view(len(X_test),-1))\n",
        "      predicted = torch.max(y_val,1)[1]\n",
        "      correct += (predicted==y_test).sum()"
      ],
      "metadata": {
        "id": "ipaUIc5Y1Hji"
      },
      "execution_count": 48,
      "outputs": []
    },
    {
      "cell_type": "code",
      "source": [
        "# look at correct\n",
        "100*correct.item()/len(test_data)"
      ],
      "metadata": {
        "colab": {
          "base_uri": "https://localhost:8080/"
        },
        "id": "T7syToV41kn1",
        "outputId": "664df478-2fe7-48d0-aa69-5836bd312e66"
      },
      "execution_count": 50,
      "outputs": [
        {
          "output_type": "execute_result",
          "data": {
            "text/plain": [
              "98.16"
            ]
          },
          "metadata": {},
          "execution_count": 50
        }
      ]
    },
    {
      "cell_type": "markdown",
      "source": [
        "Acc = 98.16% on test set"
      ],
      "metadata": {
        "id": "1bukEe4N1r9U"
      }
    },
    {
      "cell_type": "markdown",
      "source": [
        "### Confusion Matrix"
      ],
      "metadata": {
        "id": "szfD1Ser1ybe"
      }
    },
    {
      "cell_type": "code",
      "source": [
        "conf_mat = confusion_matrix(predicted.view(-1),y_test.view(-1))\n",
        "import seaborn as sns\n",
        "## heatmap of confusion matrix\n",
        "sns.heatmap(conf_mat,annot=True).set(title=\"Confusion Matrix\")\n",
        "sns.set(font_scale=-2.0)"
      ],
      "metadata": {
        "colab": {
          "base_uri": "https://localhost:8080/",
          "height": 457
        },
        "id": "PJVzxilZ1q-q",
        "outputId": "ebd67b8d-9d61-4aef-c623-5aef42788590"
      },
      "execution_count": 62,
      "outputs": [
        {
          "output_type": "display_data",
          "data": {
            "text/plain": [
              "<Figure size 640x480 with 2 Axes>"
            ],
            "image/png": "[encoded data removed]"
          },
          "metadata": {}
        }
      ]
    },
    {
      "cell_type": "code",
      "source": [
        "conf_mat"
      ],
      "metadata": {
        "colab": {
          "base_uri": "https://localhost:8080/"
        },
        "id": "5f8GzalK121f",
        "outputId": "b5752017-c29b-472d-9e17-ad85edd1736e"
      },
      "execution_count": 54,
      "outputs": [
        {
          "output_type": "execute_result",
          "data": {
            "text/plain": [
              "array([[ 970,    0,    4,    1,    0,    2,    3,    0,    5,    3],\n",
              "       [   1, 1125,    0,    0,    0,    0,    1,    3,    0,    2],\n",
              "       [   0,    3, 1010,    2,    4,    0,    2,   12,    3,    0],\n",
              "       [   2,    2,    6,  996,    0,    9,    1,    2,    3,    2],\n",
              "       [   1,    0,    2,    0,  962,    2,    3,    1,    1,    6],\n",
              "       [   0,    0,    0,    4,    1,  866,    5,    1,    0,    3],\n",
              "       [   2,    1,    0,    0,    4,    1,  942,    0,    1,    0],\n",
              "       [   1,    1,    3,    3,    2,    3,    0, 1003,    3,    3],\n",
              "       [   2,    3,    7,    1,    0,    5,    1,    1,  955,    3],\n",
              "       [   1,    0,    0,    3,    9,    4,    0,    5,    3,  987]])"
            ]
          },
          "metadata": {},
          "execution_count": 54
        }
      ]
    },
    {
      "cell_type": "markdown",
      "source": [
        "# Examine missed predictions"
      ],
      "metadata": {
        "id": "6k_dKFzy3HXg"
      }
    },
    {
      "cell_type": "code",
      "source": [
        "misses = np.array([])\n",
        "for i in range(len(predicted.view(-1))):\n",
        "    if predicted[i] != y_test[i]:\n",
        "        misses = np.append(misses,i).astype('int64')\n",
        "\n",
        "# Display the number of misses\n",
        "len(misses)"
      ],
      "metadata": {
        "colab": {
          "base_uri": "https://localhost:8080/"
        },
        "id": "N692186_2KxX",
        "outputId": "36344ca7-8f8a-4c0b-9c55-054581dae8a4"
      },
      "execution_count": 63,
      "outputs": [
        {
          "output_type": "execute_result",
          "data": {
            "text/plain": [
              "184"
            ]
          },
          "metadata": {},
          "execution_count": 63
        }
      ]
    },
    {
      "cell_type": "code",
      "source": [
        "# Display the first 10 index positions\n",
        "misses[:10]"
      ],
      "metadata": {
        "colab": {
          "base_uri": "https://localhost:8080/"
        },
        "id": "J8LMtCZz3LWw",
        "outputId": "f597e88c-a34a-4b52-e205-1c043133b110"
      },
      "execution_count": 64,
      "outputs": [
        {
          "output_type": "execute_result",
          "data": {
            "text/plain": [
              "array([ 149,  151,  247,  321,  340,  445,  495,  582,  684,  720])"
            ]
          },
          "metadata": {},
          "execution_count": 64
        }
      ]
    },
    {
      "cell_type": "code",
      "source": [
        "# Set up an iterator to feed batched rows\n",
        "r = 12   # row size\n",
        "row = iter(np.array_split(misses,len(misses)//r+1))"
      ],
      "metadata": {
        "id": "Jhr9HKM53O9I"
      },
      "execution_count": 65,
      "outputs": []
    },
    {
      "cell_type": "code",
      "source": [
        "nextrow = next(row)\n",
        "print(\"Index:\", nextrow)\n",
        "print(\"Label:\", y_test.index_select(0,torch.tensor(nextrow)).numpy())\n",
        "print(\"Guess:\", predicted.index_select(0,torch.tensor(nextrow)).numpy())\n",
        "\n",
        "images = X_test.index_select(0,torch.tensor(nextrow))\n",
        "im = make_grid(images, nrow=r)\n",
        "plt.figure(figsize=(10,4))\n",
        "plt.imshow(np.transpose(im.numpy(), (1, 2, 0)));"
      ],
      "metadata": {
        "colab": {
          "base_uri": "https://localhost:8080/",
          "height": 171
        },
        "id": "2cpFsGBt3Qqt",
        "outputId": "fbd35eb2-899c-4d64-d94f-e793707f2e65"
      },
      "execution_count": 66,
      "outputs": [
        {
          "output_type": "stream",
          "name": "stdout",
          "text": [
            "Index: [ 149  151  247  321  340  445  495  582  684  720  882  900]\n",
            "Label: [   2    9    4    2    5    6    8    8    7    5    9    1]\n",
            "Guess: [   3    8    2    7    3    0    2    2    3    8    7    3]\n"
          ]
        },
        {
          "output_type": "display_data",
          "data": {
            "text/plain": [
              "<Figure size 1000x400 with 1 Axes>"
            ],
            "image/png": "[encoded data removed]"
          },
          "metadata": {}
        }
      ]
    },
    {
      "cell_type": "markdown",
      "source": [
        "# Conclusions\n",
        "* We trained an artificial neural network to classify and predict image labels for the famous MNIST dataset.\n",
        "* We can see that the network performance despite the metrics showing 100% accuracy the loss on the test set was poor and underfit the data.\n",
        "    * Examples of underfitting: https://machinelearningmastery.com/learning-curves-for-diagnosing-machine-learning-model-performance/\n",
        "* We can see there were about 184 missed labels.\n",
        "* In forthcoming notebooks we will look at more efficient ways to build a neural net to predict and classify this data.\n",
        "* We will also look at ways to finetune the results and prevent underfitting such as:\n",
        "    * Changing learning rate\n",
        "    * Change loss function and/or optimizer\n",
        "    * Tune hyperparameters and layers such as adding dropout."
      ],
      "metadata": {
        "id": "p-WTA2w03XuL"
      }
    },
    {
      "cell_type": "code",
      "source": [],
      "metadata": {
        "id": "DknKUgM-3UDh"
      },
      "execution_count": null,
      "outputs": []
    }
  ]
}