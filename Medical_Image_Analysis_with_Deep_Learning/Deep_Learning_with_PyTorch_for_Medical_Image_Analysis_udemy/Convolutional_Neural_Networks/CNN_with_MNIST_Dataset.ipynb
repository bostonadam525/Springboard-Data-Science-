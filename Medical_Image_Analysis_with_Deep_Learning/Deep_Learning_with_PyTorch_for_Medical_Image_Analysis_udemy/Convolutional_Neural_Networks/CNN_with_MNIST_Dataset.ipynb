{
  "nbformat": 4,
  "nbformat_minor": 0,
  "metadata": {
    "colab": {
      "provenance": []
    },
    "kernelspec": {
      "name": "python3",
      "display_name": "Python 3"
    },
    "language_info": {
      "name": "python"
    }
  },
  "cells": [
    {
      "cell_type": "markdown",
      "source": [
        "# CNN with MNIST Dataset\n",
        "* Notebook coded by Adam Lang\n",
        "* Date: 4/30/2024\n",
        "* This was a code along as part of the course Deep Learning for Medical Image Analysis taught by Professor Jose Portilla from Udemy.\n",
        "\n",
        "* In the previous notebook we build an ANN or MLP or simple neural network to predict and classify the images from the famous MNIST dataset and evaluate the results. We were able to see how poorly the ANN handles imaging data and we will now implement a CNN network to see if it can improve upon the results.\n",
        "\n",
        "* More details about the MNIST dataset: https://en.wikipedia.org/wiki/MNIST_database\n",
        "* The MNIST database (Modified National Institute of Standards and Technology database) is a large collection of handwritten digits. It has a training set of 60,000 examples, and a test set of 10,000 examples. It is a subset of a larger NIST Special Database 3 (digits written by employees of the United States Census Bureau) and Special Database 1 (digits written by high school students) which contain monochrome images of handwritten digits. The digits have been size-normalized and centered in a fixed-size image. The original black and white (bilevel) images from NIST were size normalized to fit in a 20x20 pixel box while preserving their aspect ratio. The resulting images contain grey levels as a result of the anti-aliasing technique used by the normalization algorithm. the images were centered in a 28x28 image by computing the center of mass of the pixels, and translating the image so as to position this point at the center of the 28x28 field. (source: https://paperswithcode.com/dataset/mnist)"
      ],
      "metadata": {
        "id": "SOAolsyorWUW"
      }
    },
    {
      "cell_type": "markdown",
      "source": [
        "## Import libraries"
      ],
      "metadata": {
        "id": "lLJSx_QJsCYX"
      }
    },
    {
      "cell_type": "code",
      "execution_count": 1,
      "metadata": {
        "id": "OuCbUxTqrQV9"
      },
      "outputs": [],
      "source": [
        "import torch\n",
        "import torch.nn as nn\n",
        "import torch.nn.functional as F\n",
        "from torch.utils.data import DataLoader\n",
        "from torchvision import datasets, transforms\n",
        "from torchvision.utils import make_grid\n",
        "\n",
        "import numpy as np\n",
        "import pandas as pd\n",
        "from sklearn.metrics import confusion_matrix\n",
        "import matplotlib.pyplot as plt\n",
        "%matplotlib inline"
      ]
    },
    {
      "cell_type": "markdown",
      "source": [
        "## Load the MNIST Dataset"
      ],
      "metadata": {
        "id": "juJwRjutsObB"
      }
    },
    {
      "cell_type": "code",
      "source": [
        "# load data\n",
        "transform = transforms.ToTensor()"
      ],
      "metadata": {
        "id": "EVjIp9EzsG2_"
      },
      "execution_count": 2,
      "outputs": []
    },
    {
      "cell_type": "code",
      "source": [
        "## load data into train and test\n",
        "train_data = datasets.MNIST(root='../Data', train=True, download=True, transform=transform)\n",
        "\n",
        "test_data = datasets.MNIST(root='../Data', train=False, download=True, transform=transform)"
      ],
      "metadata": {
        "colab": {
          "base_uri": "https://localhost:8080/"
        },
        "id": "0NlZUT3ysS2C",
        "outputId": "c8fff01f-4cd8-482a-8aeb-2cfaa890b694"
      },
      "execution_count": 3,
      "outputs": [
        {
          "output_type": "stream",
          "name": "stdout",
          "text": [
            "Downloading http://yann.lecun.com/exdb/mnist/train-images-idx3-ubyte.gz\n",
            "Downloading http://yann.lecun.com/exdb/mnist/train-images-idx3-ubyte.gz to ../Data/MNIST/raw/train-images-idx3-ubyte.gz\n"
          ]
        },
        {
          "output_type": "stream",
          "name": "stderr",
          "text": [
            "100%|██████████| 9912422/9912422 [04:56<00:00, 33402.64it/s]\n"
          ]
        },
        {
          "output_type": "stream",
          "name": "stdout",
          "text": [
            "Extracting ../Data/MNIST/raw/train-images-idx3-ubyte.gz to ../Data/MNIST/raw\n",
            "\n",
            "Downloading http://yann.lecun.com/exdb/mnist/train-labels-idx1-ubyte.gz\n",
            "Downloading http://yann.lecun.com/exdb/mnist/train-labels-idx1-ubyte.gz to ../Data/MNIST/raw/train-labels-idx1-ubyte.gz\n"
          ]
        },
        {
          "output_type": "stream",
          "name": "stderr",
          "text": [
            "100%|██████████| 28881/28881 [00:00<00:00, 2728527.21it/s]\n"
          ]
        },
        {
          "output_type": "stream",
          "name": "stdout",
          "text": [
            "Extracting ../Data/MNIST/raw/train-labels-idx1-ubyte.gz to ../Data/MNIST/raw\n",
            "\n",
            "Downloading http://yann.lecun.com/exdb/mnist/t10k-images-idx3-ubyte.gz\n",
            "Downloading http://yann.lecun.com/exdb/mnist/t10k-images-idx3-ubyte.gz to ../Data/MNIST/raw/t10k-images-idx3-ubyte.gz\n"
          ]
        },
        {
          "output_type": "stream",
          "name": "stderr",
          "text": [
            "100%|██████████| 1648877/1648877 [00:49<00:00, 33139.97it/s]\n"
          ]
        },
        {
          "output_type": "stream",
          "name": "stdout",
          "text": [
            "Extracting ../Data/MNIST/raw/t10k-images-idx3-ubyte.gz to ../Data/MNIST/raw\n",
            "\n",
            "Downloading http://yann.lecun.com/exdb/mnist/t10k-labels-idx1-ubyte.gz\n",
            "Downloading http://yann.lecun.com/exdb/mnist/t10k-labels-idx1-ubyte.gz to ../Data/MNIST/raw/t10k-labels-idx1-ubyte.gz\n"
          ]
        },
        {
          "output_type": "stream",
          "name": "stderr",
          "text": [
            "100%|██████████| 4542/4542 [00:00<00:00, 3479548.63it/s]\n"
          ]
        },
        {
          "output_type": "stream",
          "name": "stdout",
          "text": [
            "Extracting ../Data/MNIST/raw/t10k-labels-idx1-ubyte.gz to ../Data/MNIST/raw\n",
            "\n"
          ]
        }
      ]
    },
    {
      "cell_type": "code",
      "source": [
        "## view train_data\n",
        "train_data"
      ],
      "metadata": {
        "colab": {
          "base_uri": "https://localhost:8080/"
        },
        "id": "g6MGYw89st3X",
        "outputId": "90ef03cb-1ff0-414c-a344-c4b610a2d92f"
      },
      "execution_count": 4,
      "outputs": [
        {
          "output_type": "execute_result",
          "data": {
            "text/plain": [
              "Dataset MNIST\n",
              "    Number of datapoints: 60000\n",
              "    Root location: ../Data\n",
              "    Split: Train\n",
              "    StandardTransform\n",
              "Transform: ToTensor()"
            ]
          },
          "metadata": {},
          "execution_count": 4
        }
      ]
    },
    {
      "cell_type": "code",
      "source": [
        "## view test_data\n",
        "test_data"
      ],
      "metadata": {
        "colab": {
          "base_uri": "https://localhost:8080/"
        },
        "id": "w509YpCUsxcn",
        "outputId": "093014cd-8b07-4c85-8445-75ceed6e3a90"
      },
      "execution_count": 5,
      "outputs": [
        {
          "output_type": "execute_result",
          "data": {
            "text/plain": [
              "Dataset MNIST\n",
              "    Number of datapoints: 10000\n",
              "    Root location: ../Data\n",
              "    Split: Test\n",
              "    StandardTransform\n",
              "Transform: ToTensor()"
            ]
          },
          "metadata": {},
          "execution_count": 5
        }
      ]
    },
    {
      "cell_type": "markdown",
      "source": [
        "## DataLoaders and Batch Sizes"
      ],
      "metadata": {
        "id": "5uk8CUkzs8F1"
      }
    },
    {
      "cell_type": "code",
      "source": [
        "## instantiate the DataLoader and Batch Size (this depends on your operating system and intent)\n",
        "train_loader = DataLoader(train_data, batch_size=10, shuffle=True) #shuffle data so we don't overfit\n",
        "\n",
        "test_loader = DataLoader(test_data, batch_size=10, shuffle=False) # we don't need to shuffle the test_data only train_data"
      ],
      "metadata": {
        "id": "08E9Z4I7s0M1"
      },
      "execution_count": 6,
      "outputs": []
    },
    {
      "cell_type": "markdown",
      "source": [
        "## Define a Convolutional Model (CNN)\n",
        "n the previous section we used only fully connected layers, with an input layer of 784 (our flattened 28x28 images), hidden layers of 120 and 84 neurons, and an output size representing 10 possible digits.\n",
        "\n",
        "This time we'll employ two convolutional layers and two pooling layers before feeding data through fully connected hidden layers to our output. The model follows CONV/RELU/POOL/CONV/RELU/POOL/FC/RELU/FC.\n",
        "\n",
        "Let's walk through the steps we're about to take.\n",
        "Extend the base Module class:\n",
        "class ConvolutionalNetwork(nn.Module):\n",
        "    def __init__(self):\n",
        "        super().__init__()\n",
        "\n",
        "Set up the convolutional layers with torch.nn.Conv2d()\n",
        "\n",
        "The first layer has one input channel (the grayscale color channel). We'll assign 6 output channels for feature extraction. We'll set our kernel size to 3 to make a 3x3 filter, and set the step size to 1.\n",
        "    self.conv1 = nn.Conv2d(1, 6, 3, 1)\n",
        "The second layer will take our 6 input channels and deliver 16 output channels.\n",
        "    self.conv2 = nn.Conv2d(6, 16, 3, 1)\n",
        "\n",
        "\n",
        "Set up the fully connected layers with torch.nn.Linear().\n",
        "\n",
        "The input size of (5x5x16) is determined by the effect of our kernels on the input image size. A 3x3 filter applied to a 28x28 image leaves a 1-pixel edge on all four sides. In one layer the size changes from 28x28 to 26x26. We could address this with zero-padding, but since an MNIST image is mostly black at the edges, we should be safe ignoring these pixels. We'll apply the kernel twice, and apply pooling layers twice, so our resulting output will be (((28−2)/2)−2)/2=5.5 which rounds down to 5 pixels per side.\n",
        "    self.fc1 = nn.Linear(5*5*16, 120)\n",
        "    self.fc2 = nn.Linear(120, 84)\n",
        "    self.fc3 = nn.Linear(84, 10)\n",
        "See below for a more detailed look at this step.\n",
        "\n",
        "\n",
        "Define the forward method.\n",
        "\n",
        "Activations can be applied to the convolutions in one line using F.relu() and pooling is done using F.max_pool2d()\n",
        "def forward(self, X):\n",
        "    X = F.relu(self.conv1(X))\n",
        "    X = F.max_pool2d(X, 2, 2)\n",
        "    X = F.relu(self.conv2(X))\n",
        "    X = F.max_pool2d(X, 2, 2)\n",
        "Flatten the data for the fully connected layers:\n",
        "    X = X.view(-1, 5*5*16)\n",
        "    X = F.relu(self.fc1(X))\n",
        "    X = self.fc2(X)\n",
        "    return F.log_softmax(X, dim=1)\n",
        "\n",
        "\n",
        "# Breaking down the convolutional layers (this code is for illustration purposes only.)"
      ],
      "metadata": {
        "id": "LhF59J_cu9DU"
      }
    },
    {
      "cell_type": "markdown",
      "source": [
        "This is the docstring for the `Conv2d` that we are using for parameters:\n",
        "\n",
        "![image.png](data:image/png;base64,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)"
      ],
      "metadata": {
        "id": "zHOvPedzwdfM"
      }
    },
    {
      "cell_type": "code",
      "source": [
        "# these are breakdown examples\n",
        "\n",
        "# 1 (first convolutional layer) COLOR CHANNEL, 6 FILTERS (OUTPUT CHANNELS), 3x3 KERNEL, STRIDE=1\n",
        "conv1 = nn.Conv2d(in_channels=1,out_channels=6,kernel_size=3,stride=1) # ---> 6 filters --> pooling --> conv2\n",
        "\n",
        "# 2 (second convolutional layer) --> 6 input filters from Conv1, 16 filters (arbitrary), 3x3 KERNEL, STRIDE=1\n",
        "conv2 = nn.Conv2d(in_channels=6,out_channels=16,kernel_size=3,stride=1)"
      ],
      "metadata": {
        "id": "viUZsuUVtX00"
      },
      "execution_count": 7,
      "outputs": []
    },
    {
      "cell_type": "code",
      "source": [
        "## Next step is to grab the first MNIST record\n",
        "for i, (X_train, y_train) in enumerate(train_data):\n",
        "    break"
      ],
      "metadata": {
        "id": "XCKpHRYzwM7k"
      },
      "execution_count": 10,
      "outputs": []
    },
    {
      "cell_type": "code",
      "source": [
        "## X_train shape\n",
        "X_train.shape # ---> convert to 4D batch (batch of 1 image)"
      ],
      "metadata": {
        "colab": {
          "base_uri": "https://localhost:8080/"
        },
        "id": "3BUtZ5tedmzM",
        "outputId": "0c01b36a-fd1e-4920-e334-2e6b096d922f"
      },
      "execution_count": 11,
      "outputs": [
        {
          "output_type": "execute_result",
          "data": {
            "text/plain": [
              "torch.Size([1, 28, 28])"
            ]
          },
          "metadata": {},
          "execution_count": 11
        }
      ]
    },
    {
      "cell_type": "markdown",
      "source": [
        "Note: Right now we have 1 batch with 28x28 color channels."
      ],
      "metadata": {
        "id": "Zw1MWRrfd1kp"
      }
    },
    {
      "cell_type": "code",
      "source": [
        "## conversion to 4D batch\n",
        "x = X_train.view(1,1,28,28)"
      ],
      "metadata": {
        "id": "exxrNt5Ldpwf"
      },
      "execution_count": 13,
      "outputs": []
    },
    {
      "cell_type": "code",
      "source": [
        "## perform first convolution\n",
        "x = F.relu(conv1(x))"
      ],
      "metadata": {
        "id": "8WykTxjwfV8X"
      },
      "execution_count": 15,
      "outputs": []
    },
    {
      "cell_type": "code",
      "source": [
        "## check shape\n",
        "x.shape"
      ],
      "metadata": {
        "colab": {
          "base_uri": "https://localhost:8080/"
        },
        "id": "GhZThN8MfaUt",
        "outputId": "6ba30246-092c-49ab-df4a-ee94d6f689d4"
      },
      "execution_count": 16,
      "outputs": [
        {
          "output_type": "execute_result",
          "data": {
            "text/plain": [
              "torch.Size([1, 6, 26, 26])"
            ]
          },
          "metadata": {},
          "execution_count": 16
        }
      ]
    },
    {
      "cell_type": "markdown",
      "source": [
        "Summary:\n",
        "* 1 image\n",
        "* 6 filters\n",
        "* 26 x 26 image --- wait wasn't it 28x28?\n",
        "    * It is now \"convoluted\"\n",
        "    * Lost some of the image border.\n",
        "    * We did not add any padding to MNIST because its not necessary (there aren't any details on the image edge to be concerned with)"
      ],
      "metadata": {
        "id": "nPKtHlXMfwZW"
      }
    },
    {
      "cell_type": "code",
      "source": [
        "## call pooling layer\n",
        "x = F.max_pool2d(x,2,2)"
      ],
      "metadata": {
        "id": "dIOVfUsgfswS"
      },
      "execution_count": 19,
      "outputs": []
    },
    {
      "cell_type": "code",
      "source": [
        "## check x shape\n",
        "x.shape"
      ],
      "metadata": {
        "colab": {
          "base_uri": "https://localhost:8080/"
        },
        "id": "OW-VUzMngaOk",
        "outputId": "0f7d164d-c86c-4867-bfb0-a27aa9c6e2bb"
      },
      "execution_count": 20,
      "outputs": [
        {
          "output_type": "execute_result",
          "data": {
            "text/plain": [
              "torch.Size([1, 6, 13, 13])"
            ]
          },
          "metadata": {},
          "execution_count": 20
        }
      ]
    },
    {
      "cell_type": "markdown",
      "source": [
        "What happened now?\n",
        "* We cut the size in half with `max_pool2d`"
      ],
      "metadata": {
        "id": "rG-I42_3gjhY"
      }
    },
    {
      "cell_type": "code",
      "source": [
        "## one last pass\n",
        "x = F.relu(conv2(x))"
      ],
      "metadata": {
        "id": "M1ROIz-ngb_e"
      },
      "execution_count": 21,
      "outputs": []
    },
    {
      "cell_type": "code",
      "source": [
        "## check shape\n",
        "x.shape"
      ],
      "metadata": {
        "colab": {
          "base_uri": "https://localhost:8080/"
        },
        "id": "gkulM7fBgx4L",
        "outputId": "8bf3ed9b-c4a6-449c-e750-0ccd52edb52d"
      },
      "execution_count": 22,
      "outputs": [
        {
          "output_type": "execute_result",
          "data": {
            "text/plain": [
              "torch.Size([1, 16, 11, 11])"
            ]
          },
          "metadata": {},
          "execution_count": 22
        }
      ]
    },
    {
      "cell_type": "code",
      "source": [
        "## another max_pool2d\n",
        "x = F.max_pool2d(x,2,2)"
      ],
      "metadata": {
        "id": "ZudBHiqCgzHK"
      },
      "execution_count": 23,
      "outputs": []
    },
    {
      "cell_type": "code",
      "source": [
        "x.shape"
      ],
      "metadata": {
        "colab": {
          "base_uri": "https://localhost:8080/"
        },
        "id": "f_LTKwnog-EX",
        "outputId": "763653db-2518-492d-8053-290546ca6251"
      },
      "execution_count": 24,
      "outputs": [
        {
          "output_type": "execute_result",
          "data": {
            "text/plain": [
              "torch.Size([1, 16, 5, 5])"
            ]
          },
          "metadata": {},
          "execution_count": 24
        }
      ]
    },
    {
      "cell_type": "code",
      "source": [
        "11/2"
      ],
      "metadata": {
        "colab": {
          "base_uri": "https://localhost:8080/"
        },
        "id": "2xS_PrZ1g-rg",
        "outputId": "51e08dce-892e-42a7-fb7b-197ce81f5433"
      },
      "execution_count": 25,
      "outputs": [
        {
          "output_type": "execute_result",
          "data": {
            "text/plain": [
              "5.5"
            ]
          },
          "metadata": {},
          "execution_count": 25
        }
      ]
    },
    {
      "cell_type": "markdown",
      "source": [
        "Final size of 5.5 --> rounded to 5"
      ],
      "metadata": {
        "id": "QXoGg_ozhDdQ"
      }
    },
    {
      "cell_type": "code",
      "source": [
        "## math of these convolutions\n",
        "(((28-2)/2)-2)/2\n"
      ],
      "metadata": {
        "colab": {
          "base_uri": "https://localhost:8080/"
        },
        "id": "GCNvMvfphCso",
        "outputId": "ff6541e3-c398-4771-e790-f65d5802146f"
      },
      "execution_count": 26,
      "outputs": [
        {
          "output_type": "execute_result",
          "data": {
            "text/plain": [
              "5.5"
            ]
          },
          "metadata": {},
          "execution_count": 26
        }
      ]
    },
    {
      "cell_type": "markdown",
      "source": [
        "We then feed this into a fully connected flat layer"
      ],
      "metadata": {
        "id": "guV8KWXShhuv"
      }
    },
    {
      "cell_type": "code",
      "source": [
        "x.shape"
      ],
      "metadata": {
        "colab": {
          "base_uri": "https://localhost:8080/"
        },
        "id": "FC5NM41nhfKD",
        "outputId": "c1d4e391-4a9f-4c14-e71c-1ecd6a898807"
      },
      "execution_count": 27,
      "outputs": [
        {
          "output_type": "execute_result",
          "data": {
            "text/plain": [
              "torch.Size([1, 16, 5, 5])"
            ]
          },
          "metadata": {},
          "execution_count": 27
        }
      ]
    },
    {
      "cell_type": "code",
      "source": [
        "## feed to flattened layer\n",
        "x.view(-1,16*5*5).shape"
      ],
      "metadata": {
        "colab": {
          "base_uri": "https://localhost:8080/"
        },
        "id": "5TMFeVsRhkG4",
        "outputId": "6faaa0c5-cb56-4e6f-ad50-68a3d3b1972f"
      },
      "execution_count": 28,
      "outputs": [
        {
          "output_type": "execute_result",
          "data": {
            "text/plain": [
              "torch.Size([1, 400])"
            ]
          },
          "metadata": {},
          "execution_count": 28
        }
      ]
    },
    {
      "cell_type": "markdown",
      "source": [
        "Summary:\n",
        "* Final shape before fully connected layer is 1x400"
      ],
      "metadata": {
        "id": "Zzw3ch07hs8n"
      }
    },
    {
      "cell_type": "markdown",
      "source": [
        "# Building a CNN class\n",
        "* Above we detailed this step by step, now we will build this into a class."
      ],
      "metadata": {
        "id": "mHFEsuW9iD92"
      }
    },
    {
      "cell_type": "code",
      "source": [
        "## class\n",
        "class ConvolutionalNetwork(nn.Module):\n",
        "\n",
        "  def __init__(self):\n",
        "    super().__init__()\n",
        "    self.conv1 = nn.Conv2d(1,6,3,1) #in, out, kernel, stride\n",
        "    self.conv2 = nn.Conv2d(6,16,3,1) # 16 is arbitrary\n",
        "    self.fc1 = nn.Linear(5*5*16,120) # first fully connected layer - 120 is \"random\"\n",
        "    self.fc2 = nn.Linear(120,84) # 2nd fully connected layer - 84 is \"random\"\n",
        "    self.fc3 = nn.Linear(84,10) # 3rd fully connected layer\n",
        "\n",
        "  def forward(self,X):\n",
        "    X = F.relu(self.conv1(X)) # 1st input through conv1\n",
        "    X = F.max_pool2d(X,2,2) # X, 2x2 kernel with stride=2\n",
        "    # repeat this again\n",
        "    X = F.relu(self.conv2(X)) # 2nd convolution\n",
        "    X = F.max_pool2d(X,2,2)\n",
        "    # final flattened layer\n",
        "    X = X.view(-1,16*5*5) # -1 is so we can vary batchsize\n",
        "    X = F.relu(self.fc1(X))\n",
        "    X = F.relu(self.fc2(X))\n",
        "    X = self.fc3(X)\n",
        "    return F.log_softmax(X,dim=1)"
      ],
      "metadata": {
        "id": "VqO33Oxahr0L"
      },
      "execution_count": 29,
      "outputs": []
    },
    {
      "cell_type": "markdown",
      "source": [
        "## Create instance of model"
      ],
      "metadata": {
        "id": "0I6lrDCAj9wQ"
      }
    },
    {
      "cell_type": "code",
      "source": [
        "## set seed\n",
        "torch.manual_seed(42)\n",
        "\n",
        "## model\n",
        "model = ConvolutionalNetwork()\n",
        "model"
      ],
      "metadata": {
        "colab": {
          "base_uri": "https://localhost:8080/"
        },
        "id": "Cmuk3i9aj8zs",
        "outputId": "2155f8a0-f8e8-4b12-d5da-0bbfdbf8c84c"
      },
      "execution_count": 30,
      "outputs": [
        {
          "output_type": "execute_result",
          "data": {
            "text/plain": [
              "ConvolutionalNetwork(\n",
              "  (conv1): Conv2d(1, 6, kernel_size=(3, 3), stride=(1, 1))\n",
              "  (conv2): Conv2d(6, 16, kernel_size=(3, 3), stride=(1, 1))\n",
              "  (fc1): Linear(in_features=400, out_features=120, bias=True)\n",
              "  (fc2): Linear(in_features=120, out_features=84, bias=True)\n",
              "  (fc3): Linear(in_features=84, out_features=10, bias=True)\n",
              ")"
            ]
          },
          "metadata": {},
          "execution_count": 30
        }
      ]
    },
    {
      "cell_type": "markdown",
      "source": [
        "Let's check the num of elements in this Convoluted model"
      ],
      "metadata": {
        "id": "RiVjHgpQkXOP"
      }
    },
    {
      "cell_type": "code",
      "source": [
        "for param in model.parameters():\n",
        "  print(param.numel())"
      ],
      "metadata": {
        "colab": {
          "base_uri": "https://localhost:8080/"
        },
        "id": "eHp742WXkGOo",
        "outputId": "3f24b1f9-d903-4d85-cf7d-ca8483e3c357"
      },
      "execution_count": 33,
      "outputs": [
        {
          "output_type": "stream",
          "name": "stdout",
          "text": [
            "54\n",
            "6\n",
            "864\n",
            "16\n",
            "48000\n",
            "120\n",
            "10080\n",
            "84\n",
            "840\n",
            "10\n"
          ]
        }
      ]
    },
    {
      "cell_type": "markdown",
      "source": [
        "If you were to sum these params you would get 60,074 which is about 50% less parameters than the ANN network we trained on the MNIST data previously. Thus we can see with the convolutional network there are less parameters."
      ],
      "metadata": {
        "id": "oAYQAJ-mkiUc"
      }
    },
    {
      "cell_type": "markdown",
      "source": [
        "## Define loss function and optimizer"
      ],
      "metadata": {
        "id": "WrtuL2Bjky15"
      }
    },
    {
      "cell_type": "code",
      "source": [
        "## loss function\n",
        "criterion = nn.CrossEntropyLoss()\n",
        "\n",
        "## optimizer\n",
        "optimizer = torch.optim.Adam(model.parameters(),lr=0.001)"
      ],
      "metadata": {
        "id": "sxuQKbjmkTSg"
      },
      "execution_count": 34,
      "outputs": []
    },
    {
      "cell_type": "markdown",
      "source": [
        "## Training Loop"
      ],
      "metadata": {
        "id": "nma0i3erlKhE"
      }
    },
    {
      "cell_type": "code",
      "source": [
        "## set up timer\n",
        "import time\n",
        "start_time = time.time()\n",
        "\n",
        "# Variables (Trackers)\n",
        "epochs = 5\n",
        "train_losses = []\n",
        "test_losses = []\n",
        "train_correct = []\n",
        "test_correct = []\n",
        "\n",
        "# For loop epochs\n",
        "for i in range(epochs):\n",
        "\n",
        "    trn_corr = 0\n",
        "    tst_corr = 0\n",
        "\n",
        "    # Train\n",
        "    for b,(X_train, y_train) in enumerate(train_loader):\n",
        "        b+=1\n",
        "\n",
        "        y_pred = model(X_train) # NOT FLATTENED, not needed!\n",
        "        loss = criterion(y_pred, y_train)\n",
        "\n",
        "        # This is only for recording purposes\n",
        "        predicted = torch.max(y_pred.data,1)[1]\n",
        "        batch_corr = (predicted == y_train).sum() #True 1, False 0 sum()\n",
        "        trn_corr += batch_corr\n",
        "\n",
        "        optimizer.zero_grad()\n",
        "        loss.backward()\n",
        "        optimizer.step()\n",
        "\n",
        "        # print interim results\n",
        "        if b%600 == 0:\n",
        "           print(f\"EPOCH: {i} | BATCH: {b} | LOSS: {loss.item()}\")\n",
        "\n",
        "    train_losses.append(loss.detach().numpy())\n",
        "    train_correct.append(trn_corr)\n",
        "\n",
        "    # Test\n",
        "    with torch.no_grad():\n",
        "        for b,(X_test,y_test) in enumerate(test_loader):\n",
        "\n",
        "            y_val = model(X_test)\n",
        "\n",
        "            predicted = torch.max(y_val.data,1)[1]\n",
        "            tst_corr += (predicted == y_test).sum()\n",
        "\n",
        "    loss = criterion(y_val,y_test)\n",
        "    test_losses.append(loss)\n",
        "    test_correct.append(tst_corr)\n",
        "\n",
        "\n",
        "\n",
        "\n",
        "current_time = time.time()\n",
        "total = current_time - start_time\n",
        "print(f\"Training took {total/60} minutes\")"
      ],
      "metadata": {
        "colab": {
          "base_uri": "https://localhost:8080/"
        },
        "id": "MGjyY-N9lBHY",
        "outputId": "98ebaf8e-cc7a-4ba1-c225-f26379c35596"
      },
      "execution_count": 42,
      "outputs": [
        {
          "output_type": "stream",
          "name": "stdout",
          "text": [
            "EPOCH: 0 | BATCH: 600 | LOSS: 8.344567504536826e-06\n",
            "EPOCH: 0 | BATCH: 1200 | LOSS: 0.0632518082857132\n",
            "EPOCH: 0 | BATCH: 1800 | LOSS: 0.1510244905948639\n",
            "EPOCH: 0 | BATCH: 2400 | LOSS: 0.0002864756097551435\n",
            "EPOCH: 0 | BATCH: 3000 | LOSS: 9.979263268178329e-05\n",
            "EPOCH: 0 | BATCH: 3600 | LOSS: 0.0008287866367027164\n",
            "EPOCH: 0 | BATCH: 4200 | LOSS: 6.907455099280924e-05\n",
            "EPOCH: 0 | BATCH: 4800 | LOSS: 4.982109385309741e-05\n",
            "EPOCH: 0 | BATCH: 5400 | LOSS: 9.657077316660434e-05\n",
            "EPOCH: 0 | BATCH: 6000 | LOSS: 7.8925586421974e-05\n",
            "EPOCH: 1 | BATCH: 600 | LOSS: 0.000970064545981586\n",
            "EPOCH: 1 | BATCH: 1200 | LOSS: 0.0021447124890983105\n",
            "EPOCH: 1 | BATCH: 1800 | LOSS: 0.03669845685362816\n",
            "EPOCH: 1 | BATCH: 2400 | LOSS: 0.0002442511613480747\n",
            "EPOCH: 1 | BATCH: 3000 | LOSS: 1.5127338883758057e-05\n",
            "EPOCH: 1 | BATCH: 3600 | LOSS: 0.00044823609641753137\n",
            "EPOCH: 1 | BATCH: 4200 | LOSS: 0.00045781541848555207\n",
            "EPOCH: 1 | BATCH: 4800 | LOSS: 0.015219561755657196\n",
            "EPOCH: 1 | BATCH: 5400 | LOSS: 0.00016675733786541969\n",
            "EPOCH: 1 | BATCH: 6000 | LOSS: 0.00019273512589279562\n",
            "EPOCH: 2 | BATCH: 600 | LOSS: 3.2813026336953044e-05\n",
            "EPOCH: 2 | BATCH: 1200 | LOSS: 1.5258727898981306e-06\n",
            "EPOCH: 2 | BATCH: 1800 | LOSS: 0.001954043749719858\n",
            "EPOCH: 2 | BATCH: 2400 | LOSS: 0.0040188143029809\n",
            "EPOCH: 2 | BATCH: 3000 | LOSS: 3.82114048989024e-05\n",
            "EPOCH: 2 | BATCH: 3600 | LOSS: 0.006366127170622349\n",
            "EPOCH: 2 | BATCH: 4200 | LOSS: 8.856865861162078e-06\n",
            "EPOCH: 2 | BATCH: 4800 | LOSS: 0.0014743204228579998\n",
            "EPOCH: 2 | BATCH: 5400 | LOSS: 0.00023243753821589053\n",
            "EPOCH: 2 | BATCH: 6000 | LOSS: 0.00023724886705167592\n",
            "EPOCH: 3 | BATCH: 600 | LOSS: 2.313711775059346e-05\n",
            "EPOCH: 3 | BATCH: 1200 | LOSS: 0.20946332812309265\n",
            "EPOCH: 3 | BATCH: 1800 | LOSS: 0.0003517810255289078\n",
            "EPOCH: 3 | BATCH: 2400 | LOSS: 0.5648371577262878\n",
            "EPOCH: 3 | BATCH: 3000 | LOSS: 0.041217416524887085\n",
            "EPOCH: 3 | BATCH: 3600 | LOSS: 1.0967236221404164e-06\n",
            "EPOCH: 3 | BATCH: 4200 | LOSS: 0.026715358719229698\n",
            "EPOCH: 3 | BATCH: 4800 | LOSS: 0.0001327072095591575\n",
            "EPOCH: 3 | BATCH: 5400 | LOSS: 6.803435826441273e-05\n",
            "EPOCH: 3 | BATCH: 6000 | LOSS: 6.508659134851769e-05\n",
            "EPOCH: 4 | BATCH: 600 | LOSS: 0.00011243488552281633\n",
            "EPOCH: 4 | BATCH: 1200 | LOSS: 0.4054279923439026\n",
            "EPOCH: 4 | BATCH: 1800 | LOSS: 6.687480890832376e-06\n",
            "EPOCH: 4 | BATCH: 2400 | LOSS: 0.0015398237155750394\n",
            "EPOCH: 4 | BATCH: 3000 | LOSS: 0.00010955308971460909\n",
            "EPOCH: 4 | BATCH: 3600 | LOSS: 0.16771648824214935\n",
            "EPOCH: 4 | BATCH: 4200 | LOSS: 0.02108270302414894\n",
            "EPOCH: 4 | BATCH: 4800 | LOSS: 1.156328266915807e-06\n",
            "EPOCH: 4 | BATCH: 5400 | LOSS: 0.00013591072638519108\n",
            "EPOCH: 4 | BATCH: 6000 | LOSS: 2.527226342863287e-06\n",
            "Training took 3.1841731667518616 minutes\n"
          ]
        }
      ]
    },
    {
      "cell_type": "markdown",
      "source": [
        "# Model Evaluation"
      ],
      "metadata": {
        "id": "_TtewETIp7_O"
      }
    },
    {
      "cell_type": "code",
      "source": [
        "## plot train losses\n",
        "plt.plot(train_losses, label=\"Training loss\")\n",
        "plt.plot(test_losses, label=\"Test/Validation loss\")\n",
        "plt.legend()\n",
        "plt.title(\"Model train loss vs. test/validation loss\")\n",
        "plt.show()"
      ],
      "metadata": {
        "colab": {
          "base_uri": "https://localhost:8080/",
          "height": 452
        },
        "id": "_HnyTLkMpCEF",
        "outputId": "bd661627-4ba4-42ba-b37f-8a1882831850"
      },
      "execution_count": 43,
      "outputs": [
        {
          "output_type": "display_data",
          "data": {
            "text/plain": [
              "<Figure size 640x480 with 1 Axes>"
            ],
            "image/png": "[encoded data removed]"
          },
          "metadata": {}
        }
      ]
    },
    {
      "cell_type": "code",
      "source": [
        "## plot accuracy\n",
        "plt.plot([t/600 for t in train_correct], label=\"training accuracy\")\n",
        "plt.plot([t/100 for t in test_correct], label=\"validation accuracy\")\n",
        "plt.title(\"Accuracy at end of each epoch\")\n",
        "plt.legend()\n",
        "plt.show;"
      ],
      "metadata": {
        "colab": {
          "base_uri": "https://localhost:8080/",
          "height": 452
        },
        "id": "TOjAKeW_qIDq",
        "outputId": "3c1ade89-ed6d-4b62-8b08-a86355ba9e03"
      },
      "execution_count": 44,
      "outputs": [
        {
          "output_type": "display_data",
          "data": {
            "text/plain": [
              "<Figure size 640x480 with 1 Axes>"
            ],
            "image/png": "[encoded data removed]"
          },
          "metadata": {}
        }
      ]
    },
    {
      "cell_type": "code",
      "source": [
        "## eval all test data\n",
        "test_load_all = DataLoader(test_data, batch_size=10000,shuffle=False)\n"
      ],
      "metadata": {
        "id": "W3ssqwwwt6Qj"
      },
      "execution_count": 45,
      "outputs": []
    },
    {
      "cell_type": "code",
      "source": [
        "with torch.no_grad():\n",
        "  correct = 0\n",
        "  for X_test, y_test in test_load_all:\n",
        "    y_val = model(X_test)\n",
        "    predicted = torch.max(y_val,1)[1]\n",
        "    correct += (predicted == y_test).sum()"
      ],
      "metadata": {
        "id": "x0mqbSP7uNsq"
      },
      "execution_count": 46,
      "outputs": []
    },
    {
      "cell_type": "code",
      "source": [
        "## how many correct?\n",
        "correct.item()/len(test_data)"
      ],
      "metadata": {
        "colab": {
          "base_uri": "https://localhost:8080/"
        },
        "id": "pl01VuxfuZ46",
        "outputId": "a393943f-9d97-4a02-ed99-fbea3ea9f0f4"
      },
      "execution_count": 47,
      "outputs": [
        {
          "output_type": "execute_result",
          "data": {
            "text/plain": [
              "0.9873"
            ]
          },
          "metadata": {},
          "execution_count": 47
        }
      ]
    },
    {
      "cell_type": "markdown",
      "source": [
        "Summary: 98.7% accuracy which is similar to the ANN in the first notebook but we are using about 50% less parameters with a CNN."
      ],
      "metadata": {
        "id": "788q6cYTue1Z"
      }
    },
    {
      "cell_type": "markdown",
      "source": [
        "## Confusion Matrix"
      ],
      "metadata": {
        "id": "Awp-pAf2uzZT"
      }
    },
    {
      "cell_type": "code",
      "source": [
        "np.set_printoptions(formatter=dict(int=lambda x: f'{x:4}'))\n",
        "print(np.arange(10).reshape(1,10))\n",
        "print()\n",
        "\n",
        "# print confusion matrix\n",
        "print(confusion_matrix(predicted.view(-1), y_test.view(-1)))\n"
      ],
      "metadata": {
        "colab": {
          "base_uri": "https://localhost:8080/"
        },
        "id": "U6lbsKOVvVA4",
        "outputId": "0ef5f500-1534-45b1-cbfe-5cb65795dac6"
      },
      "execution_count": 55,
      "outputs": [
        {
          "output_type": "stream",
          "name": "stdout",
          "text": [
            "[[   0    1    2    3    4    5    6    7    8    9]]\n",
            "\n",
            "[[ 961    0    1    0    0    1    1    0    0    0]\n",
            " [   0 1129    0    1    0    0    2    3    0    0]\n",
            " [   2    0 1013    1    0    0    1    3    0    0]\n",
            " [   0    2    1 1001    0    5    0    0    2    0]\n",
            " [   0    0    1    0  966    0    1    0    0    5]\n",
            " [   0    1    0    3    0  884    3    1    2    6]\n",
            " [   6    2    1    0    6    1  949    0    0    0]\n",
            " [   3    0    9    1    1    0    0 1015    1    2]\n",
            " [   3    1    6    2    1    1    1    3  967    8]\n",
            " [   5    0    0    1    8    0    0    3    2  988]]\n"
          ]
        }
      ]
    },
    {
      "cell_type": "markdown",
      "source": [
        "We can see the 7s and 8s had quite a few missing predictions."
      ],
      "metadata": {
        "id": "Q8P93kXev6Dq"
      }
    },
    {
      "cell_type": "markdown",
      "source": [
        "# How can we run a new single image through model?"
      ],
      "metadata": {
        "id": "44_RWznzwAUk"
      }
    },
    {
      "cell_type": "code",
      "source": [
        "plt.imshow(test_data[2019][0].reshape(28,28))"
      ],
      "metadata": {
        "colab": {
          "base_uri": "https://localhost:8080/",
          "height": 437
        },
        "id": "T41eecL_u-zl",
        "outputId": "7443d7c4-509d-4b0b-ca92-28ab480bb786"
      },
      "execution_count": 59,
      "outputs": [
        {
          "output_type": "execute_result",
          "data": {
            "text/plain": [
              "<matplotlib.image.AxesImage at 0x7cb6c6b06ec0>"
            ]
          },
          "metadata": {},
          "execution_count": 59
        },
        {
          "output_type": "display_data",
          "data": {
            "text/plain": [
              "<Figure size 640x480 with 1 Axes>"
            ],
            "image/png": "[encoded data removed]"
          },
          "metadata": {}
        }
      ]
    },
    {
      "cell_type": "markdown",
      "source": [
        "## Pass this image through model"
      ],
      "metadata": {
        "id": "pohX9I5DwTJC"
      }
    },
    {
      "cell_type": "code",
      "source": [
        "model.eval()\n",
        "with torch.no_grad():\n",
        "  new_prediction = model(test_data[2019][0].view(1,1,28,28))\n"
      ],
      "metadata": {
        "id": "CHwsSA1gwHmv"
      },
      "execution_count": 61,
      "outputs": []
    },
    {
      "cell_type": "code",
      "source": [
        "## new prediction with argmax()\n",
        "new_prediction.argmax()"
      ],
      "metadata": {
        "colab": {
          "base_uri": "https://localhost:8080/"
        },
        "id": "TuT-Ar3ewmHk",
        "outputId": "008d83ae-3f49-497d-d526-7a9955cdc67f"
      },
      "execution_count": 62,
      "outputs": [
        {
          "output_type": "execute_result",
          "data": {
            "text/plain": [
              "tensor(9)"
            ]
          },
          "metadata": {},
          "execution_count": 62
        }
      ]
    },
    {
      "cell_type": "markdown",
      "source": [
        "Now we can see the prediction was correct."
      ],
      "metadata": {
        "id": "-B3q6PP1wynv"
      }
    },
    {
      "cell_type": "markdown",
      "source": [
        "## Let's try another one"
      ],
      "metadata": {
        "id": "z6AmHMEnxE7T"
      }
    },
    {
      "cell_type": "code",
      "source": [
        "plt.imshow(test_data[1982][0].reshape(28,28))"
      ],
      "metadata": {
        "colab": {
          "base_uri": "https://localhost:8080/",
          "height": 437
        },
        "id": "6tQS0dorwvje",
        "outputId": "c3fc16eb-ad58-4953-8539-f3ae56f5f519"
      },
      "execution_count": 64,
      "outputs": [
        {
          "output_type": "execute_result",
          "data": {
            "text/plain": [
              "<matplotlib.image.AxesImage at 0x7cb6b7d5e890>"
            ]
          },
          "metadata": {},
          "execution_count": 64
        },
        {
          "output_type": "display_data",
          "data": {
            "text/plain": [
              "<Figure size 640x480 with 1 Axes>"
            ],
            "image/png": "[encoded data removed]"
          },
          "metadata": {}
        }
      ]
    },
    {
      "cell_type": "code",
      "source": [
        "## pass through model\n",
        "model.eval()\n",
        "with torch.no_grad():\n",
        "  new_prediction = model(test_data[1982][0].view(1,1,28,28))\n"
      ],
      "metadata": {
        "id": "ZIZl_9qBxQS_"
      },
      "execution_count": 65,
      "outputs": []
    },
    {
      "cell_type": "code",
      "source": [
        "## make prediction\n",
        "new_prediction.argmax()"
      ],
      "metadata": {
        "colab": {
          "base_uri": "https://localhost:8080/"
        },
        "id": "66Yqmq9nxZbN",
        "outputId": "d8ba7316-b96e-4d45-a5e4-687c0e261be2"
      },
      "execution_count": 66,
      "outputs": [
        {
          "output_type": "execute_result",
          "data": {
            "text/plain": [
              "tensor(6)"
            ]
          },
          "metadata": {},
          "execution_count": 66
        }
      ]
    },
    {
      "cell_type": "markdown",
      "source": [
        "The model correctly predicted a 6"
      ],
      "metadata": {
        "id": "tAZi7ZD2xeVi"
      }
    },
    {
      "cell_type": "markdown",
      "source": [
        "# Conclusion\n",
        "* We were able to obtain similar accuracy results as the ANN using a CNN at 98% accuracy.\n",
        "* The best thing about the CNN is it requires less parameters, less compute power and less time to train a neural network."
      ],
      "metadata": {
        "id": "eBXpTdKjxi_D"
      }
    },
    {
      "cell_type": "code",
      "source": [],
      "metadata": {
        "id": "5xK2ITubxdtJ"
      },
      "execution_count": null,
      "outputs": []
    }
  ]
}