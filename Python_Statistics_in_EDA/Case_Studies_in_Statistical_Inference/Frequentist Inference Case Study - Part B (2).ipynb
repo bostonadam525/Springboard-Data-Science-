{
 "cells": [
  {
   "cell_type": "markdown",
   "metadata": {},
   "source": [
    "# Frequentist Inference Case Study - Part B\n",
    "* Notebook completed by Adam Lang\n",
    "* Date: 4/16/2024\n",
    "* This case study was completed as part of the Springboard Data Science Fellowship program."
   ]
  },
  {
   "cell_type": "markdown",
   "metadata": {},
   "source": [
    "## Learning objectives"
   ]
  },
  {
   "cell_type": "markdown",
   "metadata": {},
   "source": [
    "Welcome to Part B of the Frequentist inference case study! The purpose of this case study is to help you apply the concepts associated with Frequentist inference in Python. In particular, you'll practice writing Python code to apply the following statistical concepts: \n",
    "* the _z_-statistic\n",
    "* the _t_-statistic\n",
    "* the difference and relationship between the two\n",
    "* the Central Limit Theorem, including its assumptions and consequences\n",
    "* how to estimate the population mean and standard deviation from a sample\n",
    "* the concept of a sampling distribution of a test statistic, particularly for the mean\n",
    "* how to combine these concepts to calculate a confidence interval"
   ]
  },
  {
   "cell_type": "markdown",
   "metadata": {},
   "source": [
    "In the previous notebook, we used only data from a known normal distribution. **You'll now tackle real data, rather than simulated data, and answer some relevant real-world business problems using the data.**"
   ]
  },
  {
   "cell_type": "markdown",
   "metadata": {},
   "source": [
    "## Hospital medical charges"
   ]
  },
  {
   "cell_type": "markdown",
   "metadata": {},
   "source": [
    "Imagine that a hospital has hired you as their data scientist. An administrator is working on the hospital's business operations plan and needs you to help them answer some business questions. \n",
    "\n",
    "In this assignment notebook, you're going to use frequentist statistical inference on a data sample to answer the questions:\n",
    "* has the hospital's revenue stream fallen below a key threshold?\n",
    "* are patients with insurance really charged different amounts than those without?\n",
    "\n",
    "Answering that last question with a frequentist approach makes some assumptions, and requires some knowledge, about the two groups."
   ]
  },
  {
   "cell_type": "markdown",
   "metadata": {},
   "source": [
    "We are going to use some data on medical charges obtained from [Kaggle](https://www.kaggle.com/easonlai/sample-insurance-claim-prediction-dataset). \n",
    "\n",
    "For the purposes of this exercise, assume the observations are the result of random sampling from our single hospital. Recall that in the previous assignment, we introduced the Central Limit Theorem (CLT), and its consequence that the distributions of sample statistics approach a normal distribution as $n$ increases. The amazing thing about this is that it applies to the sampling distributions of statistics that have been calculated from even highly non-normal distributions of data! Recall, also, that hypothesis testing is very much based on making inferences about such sample statistics. You're going to rely heavily on the CLT to apply frequentist (parametric) tests to answer the questions in this notebook."
   ]
  },
  {
   "cell_type": "code",
   "execution_count": 1,
   "metadata": {},
   "outputs": [],
   "source": [
    "# import packages\n",
    "import pandas as pd\n",
    "import numpy as np\n",
    "import matplotlib.pyplot as plt\n",
    "from scipy.stats import t\n",
    "from numpy.random import seed"
   ]
  },
  {
   "cell_type": "code",
   "execution_count": 2,
   "metadata": {},
   "outputs": [],
   "source": [
    "# upload dataset\n",
    "medical = pd.read_csv('insurance2.csv')"
   ]
  },
  {
   "cell_type": "code",
   "execution_count": 3,
   "metadata": {},
   "outputs": [
    {
     "data": {
      "text/plain": [
       "(1338, 8)"
      ]
     },
     "execution_count": 3,
     "metadata": {},
     "output_type": "execute_result"
    }
   ],
   "source": [
    "# check data shape\n",
    "medical.shape"
   ]
  },
  {
   "cell_type": "code",
   "execution_count": 4,
   "metadata": {},
   "outputs": [
    {
     "data": {
      "text/html": [
       "<div>\n",
       "<style scoped>\n",
       "    .dataframe tbody tr th:only-of-type {\n",
       "        vertical-align: middle;\n",
       "    }\n",
       "\n",
       "    .dataframe tbody tr th {\n",
       "        vertical-align: top;\n",
       "    }\n",
       "\n",
       "    .dataframe thead th {\n",
       "        text-align: right;\n",
       "    }\n",
       "</style>\n",
       "<table border=\"1\" class=\"dataframe\">\n",
       "  <thead>\n",
       "    <tr style=\"text-align: right;\">\n",
       "      <th></th>\n",
       "      <th>age</th>\n",
       "      <th>sex</th>\n",
       "      <th>bmi</th>\n",
       "      <th>children</th>\n",
       "      <th>smoker</th>\n",
       "      <th>region</th>\n",
       "      <th>charges</th>\n",
       "      <th>insuranceclaim</th>\n",
       "    </tr>\n",
       "  </thead>\n",
       "  <tbody>\n",
       "    <tr>\n",
       "      <th>0</th>\n",
       "      <td>19</td>\n",
       "      <td>0</td>\n",
       "      <td>27.900</td>\n",
       "      <td>0</td>\n",
       "      <td>1</td>\n",
       "      <td>3</td>\n",
       "      <td>16884.92400</td>\n",
       "      <td>1</td>\n",
       "    </tr>\n",
       "    <tr>\n",
       "      <th>1</th>\n",
       "      <td>18</td>\n",
       "      <td>1</td>\n",
       "      <td>33.770</td>\n",
       "      <td>1</td>\n",
       "      <td>0</td>\n",
       "      <td>2</td>\n",
       "      <td>1725.55230</td>\n",
       "      <td>1</td>\n",
       "    </tr>\n",
       "    <tr>\n",
       "      <th>2</th>\n",
       "      <td>28</td>\n",
       "      <td>1</td>\n",
       "      <td>33.000</td>\n",
       "      <td>3</td>\n",
       "      <td>0</td>\n",
       "      <td>2</td>\n",
       "      <td>4449.46200</td>\n",
       "      <td>0</td>\n",
       "    </tr>\n",
       "    <tr>\n",
       "      <th>3</th>\n",
       "      <td>33</td>\n",
       "      <td>1</td>\n",
       "      <td>22.705</td>\n",
       "      <td>0</td>\n",
       "      <td>0</td>\n",
       "      <td>1</td>\n",
       "      <td>21984.47061</td>\n",
       "      <td>0</td>\n",
       "    </tr>\n",
       "    <tr>\n",
       "      <th>4</th>\n",
       "      <td>32</td>\n",
       "      <td>1</td>\n",
       "      <td>28.880</td>\n",
       "      <td>0</td>\n",
       "      <td>0</td>\n",
       "      <td>1</td>\n",
       "      <td>3866.85520</td>\n",
       "      <td>1</td>\n",
       "    </tr>\n",
       "  </tbody>\n",
       "</table>\n",
       "</div>"
      ],
      "text/plain": [
       "   age  sex     bmi  children  smoker  region      charges  insuranceclaim\n",
       "0   19    0  27.900         0       1       3  16884.92400               1\n",
       "1   18    1  33.770         1       0       2   1725.55230               1\n",
       "2   28    1  33.000         3       0       2   4449.46200               0\n",
       "3   33    1  22.705         0       0       1  21984.47061               0\n",
       "4   32    1  28.880         0       0       1   3866.85520               1"
      ]
     },
     "execution_count": 4,
     "metadata": {},
     "output_type": "execute_result"
    }
   ],
   "source": [
    "# view head of dataframe\n",
    "medical.head()"
   ]
  },
  {
   "cell_type": "markdown",
   "metadata": {},
   "source": [
    "__Q1:__ Plot the histogram of charges and calculate the mean and standard deviation. Comment on the appropriateness of these statistics for the data."
   ]
  },
  {
   "cell_type": "code",
   "execution_count": 5,
   "metadata": {},
   "outputs": [
    {
     "data": {
      "text/plain": [
       "count     1338.000000\n",
       "mean     13270.422265\n",
       "std      12110.011237\n",
       "min       1121.873900\n",
       "25%       4740.287150\n",
       "50%       9382.033000\n",
       "75%      16639.912515\n",
       "max      63770.428010\n",
       "Name: charges, dtype: float64"
      ]
     },
     "execution_count": 5,
     "metadata": {},
     "output_type": "execute_result"
    }
   ],
   "source": [
    "## first lets look at the .describe() function for charges\n",
    "medical['charges'].describe()"
   ]
  },
  {
   "cell_type": "markdown",
   "metadata": {},
   "source": [
    "Summary: \n",
    "* We can see looking at the statistical output from the `.describe()` function a brief window into the `charges` data.\n",
    "* The max value is over 63,000 which likely is an extreme outlier.\n",
    "* The mean is 13,270 which appears to be closer to the 75% quartile.\n",
    "* The min value is 1,121.\n",
    "* The median (50%) is 9,382. \n",
    "* Based off the fact the mean is higher than the median, I predict the data will be right skewed with a longer tail towards higher charge values."
   ]
  },
  {
   "cell_type": "code",
   "execution_count": 9,
   "metadata": {},
   "outputs": [
    {
     "name": "stdout",
     "output_type": "stream",
     "text": [
      "37.0\n"
     ]
    }
   ],
   "source": [
    "## estimate the bin width\n",
    "bin_est = np.sqrt(len(medical['charges']))  # square root of number of observations\n",
    "bin_est = round(bin_est, 0)  # round to nearest whole number\n",
    "print(bin_est)"
   ]
  },
  {
   "cell_type": "markdown",
   "metadata": {},
   "source": [
    "__A:__\n",
    "* See histogram below.\n",
    "* Mean: 13270.42\n",
    "* Standard Deviation: 12105.48"
   ]
  },
  {
   "cell_type": "code",
   "execution_count": 22,
   "metadata": {},
   "outputs": [
    {
     "name": "stdout",
     "output_type": "stream",
     "text": [
      "The mean charge is: 13270.42\n",
      "The standard deviation charges is: 12105.48\n"
     ]
    }
   ],
   "source": [
    "## calculate the mean\n",
    "mean_charge = round(np.mean(medical['charges']),2)\n",
    "print(f\"The mean charge is: {mean_charge}\")\n",
    "\n",
    "\n",
    "# calculate the standard deviation\n",
    "std_charge = round(np.std(medical['charges']),2)\n",
    "print(f\"The standard deviation charges is: {std_charge}\")"
   ]
  },
  {
   "cell_type": "code",
   "execution_count": 23,
   "metadata": {},
   "outputs": [
    {
     "data": {
      "image/png": "[encoded data removed]",
      "text/plain": [
       "<Figure size 640x480 with 1 Axes>"
      ]
     },
     "metadata": {},
     "output_type": "display_data"
    }
   ],
   "source": [
    "## histogram of charges\n",
    "_ = plt.hist(medical['charges'], bins=37)\n",
    "_ = plt.xlabel('Insurance Charges')\n",
    "_ = plt.ylabel('Number of Patients')\n",
    "_ = plt.axvline(mean_charge, color='k')\n",
    "_ = plt.axvline(mean_charge + std_charge, color = 'r', linestyle='--')\n",
    "_ = plt.axvline(mean_charge - std_charge, color = 'r', linestyle='--')\n",
    "_ = plt.axvline(mean_charge + (std_charge*2), color='r', linestyle='-.')\n",
    "_ = plt.axvline(mean_charge - (std_charge*2), color='r', linestyle='-.')\n",
    "_ = plt.legend(['Mean', '1 Std Dev', '2 Std Dev'],loc='upper right')\n",
    "_ = plt.title('Histogram Distribution of Insurance Charges for Patients');"
   ]
  },
  {
   "cell_type": "markdown",
   "metadata": {},
   "source": [
    "**Summary of histogram:** As the summary statistics predicted, the data is right skewed"
   ]
  },
  {
   "cell_type": "code",
   "execution_count": null,
   "metadata": {},
   "outputs": [],
   "source": []
  },
  {
   "cell_type": "markdown",
   "metadata": {},
   "source": [
    "__Q2:__ The administrator is concerned that the actual average charge has fallen below 12,000, threatening the hospital's operational model. On the assumption that these data represent a random sample of charges, how would you justify that these data allow you to answer that question? And what would be the most appropriate frequentist test, of the ones discussed so far, to apply?"
   ]
  },
  {
   "cell_type": "markdown",
   "metadata": {},
   "source": [
    "__A:__\n",
    "* Random sampling would be appropriate to prove that the data actually represents a random sample of charges from our population. Random sampling allows us to give each observation in our data an equal chance of selection and thus generalize to the population.\n",
    "* We can also assess the sample size adequacy, a larger sample size would give us more reliable results for our population. If the population is large enough then we can rely on the central limit theorem (CLT).\n",
    "* The t-test and confidence intervals would also be prudent to assess. \n",
    "* So in summary, to justify this concern, I would first ensure the sample is random and adequately large enough and then compute a one-sample t-test. As we saw in the previous notebook a Z-score would not be appropriate as it could underestimate the population if the sample is too small."
   ]
  },
  {
   "cell_type": "code",
   "execution_count": null,
   "metadata": {},
   "outputs": [],
   "source": []
  },
  {
   "cell_type": "markdown",
   "metadata": {},
   "source": [
    "__Q3:__ Given the nature of the administrator's concern, what is the appropriate confidence interval in this case? A ***one-sided*** or ***two-sided*** interval? (Refresh your understanding of this concept on p. 399 of the *AoS*). Calculate the critical value and the relevant 95% confidence interval for the mean, and comment on whether the administrator should be concerned."
   ]
  },
  {
   "cell_type": "markdown",
   "metadata": {},
   "source": [
    "__A:__ A two-sided interval I felt was most appropriate here. As we can see in the result below, the value of `$12,000` is not included in the two-sided interval or the one sided lower bounds of the interval for that matter. Therefore the administrator should be concerned about the average price dropping below this value because the lower bound of the 95% confidence interval is `$12,724.16`."
   ]
  },
  {
   "cell_type": "code",
   "execution_count": 28,
   "metadata": {},
   "outputs": [
    {
     "name": "stdout",
     "output_type": "stream",
     "text": [
      "Critical value (t_critical): 1.65\n",
      "95% one-sided confidence interval for the mean charge: 12724.16\n",
      "95% two-sided confidence interval for the mean charges: (12724.16, 13816.68)\n"
     ]
    }
   ],
   "source": [
    "\n",
    "# Convert charges column to numpy array\n",
    "charges = np.array([float(x) for x in medical['charges']])\n",
    "\n",
    "# Sample statistics\n",
    "sample_mean = np.mean(charges)\n",
    "sample_std = np.std(charges, ddof=1)  # Use Bessel's correction for sample standard deviation\n",
    "sample_size = len(charges)\n",
    "\n",
    "# Degrees of freedom\n",
    "dof = sample_size - 1\n",
    "\n",
    "# Critical value for 95% confidence level (one-sided)\n",
    "# Note: For one-sided interval, we use 1 - alpha\n",
    "alpha = 0.05\n",
    "t_critical = round(t.ppf(1 - alpha, dof),2)\n",
    "\n",
    "# Calculate the one-sided confidence interval\n",
    "confidence_interval_lower = round(sample_mean - (t_critical * (sample_std / np.sqrt(sample_size))),2)\n",
    "confidence_interval_upper = round(sample_mean + (t_critical * (sample_std / np.sqrt(sample_size))),2)\n",
    "\n",
    "print(f\"Critical value (t_critical): {t_critical}\")\n",
    "print(f\"95% one-sided confidence interval for the mean charge: {confidence_interval_lower}\")\n",
    "print(f\"95% two-sided confidence interval for the mean charges: {confidence_interval_lower, confidence_interval_upper}\")\n"
   ]
  },
  {
   "cell_type": "code",
   "execution_count": null,
   "metadata": {},
   "outputs": [],
   "source": []
  },
  {
   "cell_type": "markdown",
   "metadata": {},
   "source": [
    "The administrator then wants to know whether people with insurance really are charged a different amount to those without.\n",
    "\n",
    "__Q4:__ State the null and alternative hypothesis here. Use the _t_-test for the difference between means, where the pooled standard deviation of the two groups is given by:\n",
    "\\begin{equation}\n",
    "s_p = \\sqrt{\\frac{(n_0 - 1)s^2_0 + (n_1 - 1)s^2_1}{n_0 + n_1 - 2}}\n",
    "\\end{equation}\n",
    "\n",
    "and the *t*-test statistic is then given by:\n",
    "\n",
    "\\begin{equation}\n",
    "t = \\frac{\\bar{x}_0 - \\bar{x}_1}{s_p \\sqrt{1/n_0 + 1/n_1}}.\n",
    "\\end{equation}\n",
    "\n",
    "(If you need some reminding of the general definition of ***t-statistic***, check out the definition on p. 404 of *AoS*). \n",
    "\n",
    "What assumption about the variances of the two groups are we making here?"
   ]
  },
  {
   "cell_type": "markdown",
   "metadata": {},
   "source": [
    "__A:__\n",
    "* **Null hypothesis:** No difference in mean charges between people with or without health insurance.\n",
    "* **Alternative hypothesis:** There is a difference in the mean charges between people with insurance and those without insurance.\n",
    "* The assumption we are making about the variance of the two groups is called the \"homogeneity of variances\" or \"homodasticity assumption\"; this means we are assuming that the variances of the 2 groups, patients with insurance and patients without insurance are equal."
   ]
  },
  {
   "cell_type": "markdown",
   "metadata": {},
   "source": [
    "__Q5:__ Perform this hypothesis test both manually, using the above formulae, and then using the appropriate function from [scipy.stats](https://docs.scipy.org/doc/scipy/reference/stats.html#statistical-tests) (hint, you're looking for a function to perform a _t_-test on two independent samples). For the manual approach, calculate the value of the test statistic and then its probability (the p-value). Verify you get the same results from both."
   ]
  },
  {
   "cell_type": "markdown",
   "metadata": {},
   "source": [
    "__A:__ \n",
    "* Manual calculation:\n",
    "    * 1. Calculate means and standard deviations of the 2 groups.\n",
    "    * 2. Calculate the pooled standard deviation.\n",
    "    * 3. Calculate t-test statistic.\n",
    "    * 4. Calculate degrees of freedom for t-test.\n",
    "    * 5. Use t-test statistic and degrees of freedom to calculate p-value.\n",
    "\n",
    "\n",
    "* To do this we are going to have to divide the dataframe up based on the \"insuranceclaim\" column. According to the Kaggle dataset we know:\n",
    "    * yes = 1\n",
    "    * no = 0\n",
    "        * Therefore we know which patients have insurance and those that do not.\n"
   ]
  },
  {
   "cell_type": "code",
   "execution_count": 30,
   "metadata": {},
   "outputs": [],
   "source": [
    "## We need to create to separate arrays to do this\n",
    "# first group the dataframe by the \"insuranceclaim\" column\n",
    "grouped = medical.groupby('insuranceclaim')\n",
    "\n",
    "## use a list comprehension to create 2 numpy arrays \n",
    "charges_insured = np.array([group[\"charges\"].values for name, group in grouped if name == 1][0])\n",
    "charges_uninsured = np.array([group[\"charges\"].values for name, group in grouped if name == 0][0])"
   ]
  },
  {
   "cell_type": "code",
   "execution_count": 32,
   "metadata": {},
   "outputs": [
    {
     "name": "stdout",
     "output_type": "stream",
     "text": [
      "Manual Calculations:\n",
      "t-statistic: 11.89329903087671\n",
      "p-value: 0.0\n"
     ]
    }
   ],
   "source": [
    "\n",
    "# Sample statistics for insured group\n",
    "n0 = len(charges_insured)\n",
    "x_bar0 = np.mean(charges_insured)\n",
    "s0 = np.std(charges_insured, ddof=1)  # Sample standard deviation for insured group\n",
    "\n",
    "# Sample statistics for uninsured group\n",
    "n1 = len(charges_uninsured)\n",
    "x_bar1 = np.mean(charges_uninsured)\n",
    "s1 = np.std(charges_uninsured, ddof=1)  # Sample standard deviation for uninsured group\n",
    "\n",
    "# Calculate pooled standard deviation\n",
    "sp = np.sqrt(((n0 - 1) * s0**2 + (n1 - 1) * s1**2) / (n0 + n1 - 2))\n",
    "\n",
    "# Calculate t-test statistic\n",
    "t_statistic_manual = (x_bar0 - x_bar1) / (sp * np.sqrt(1/n0 + 1/n1))\n",
    "\n",
    "# Degrees of freedom\n",
    "dof = n0 + n1 - 2\n",
    "\n",
    "# Calculate p-value\n",
    "p_value_manual = 2 * (1 - t.cdf(np.abs(t_statistic_manual), dof))\n",
    "\n",
    "print(\"Manual Calculations:\")\n",
    "print(\"t-statistic:\", t_statistic_manual)\n",
    "print(\"p-value:\", p_value_manual)\n"
   ]
  },
  {
   "cell_type": "markdown",
   "metadata": {},
   "source": [
    "#### Calculation using scipy.stats\n",
    "* Need to import the scipy.stats.ttest_ind to calculate the T-test for the means of 2 independent samples of scores. \n",
    "* Note: This is a null hypothesis test that assumes there are 2 independent samples having an identical average (expected values) and that the populations have identical variances."
   ]
  },
  {
   "cell_type": "code",
   "execution_count": 34,
   "metadata": {},
   "outputs": [],
   "source": [
    "# import scipy ttest_ind\n",
    "from scipy.stats import ttest_ind"
   ]
  },
  {
   "cell_type": "code",
   "execution_count": 35,
   "metadata": {},
   "outputs": [
    {
     "name": "stdout",
     "output_type": "stream",
     "text": [
      "\n",
      "Scipy Calculations:\n",
      "t-statistic: 11.893299030876712\n",
      "p-value: 4.461230231620717e-31\n"
     ]
    }
   ],
   "source": [
    "# Perform t-test using scipy.stats\n",
    "t_statistic_scipy, p_value_scipy = ttest_ind(charges_insured, charges_uninsured)\n",
    "\n",
    "print(\"\\nScipy Calculations:\")\n",
    "print(\"t-statistic:\", t_statistic_scipy)\n",
    "print(\"p-value:\", p_value_scipy)\n"
   ]
  },
  {
   "cell_type": "markdown",
   "metadata": {},
   "source": [
    "Summary of results:\n",
    "* The manual and scipy.stats methods both resulted in a t-statistic of 11.89.\n",
    "* The p-value was 0.0 for the manual calculation and well below zero for the scipy calculation. This is essentially the same result, scipy is more exact."
   ]
  },
  {
   "cell_type": "code",
   "execution_count": null,
   "metadata": {},
   "outputs": [],
   "source": []
  },
  {
   "cell_type": "markdown",
   "metadata": {},
   "source": [
    "Congratulations! Hopefully you got the exact same numerical results. This shows that you correctly calculated the numbers by hand. Secondly, you used the correct function and saw that it's much easier to use. All you need to do is pass your data to it."
   ]
  },
  {
   "cell_type": "markdown",
   "metadata": {},
   "source": [
    "__Q6:__ Conceptual question: look through the documentation for statistical test functions in scipy.stats. You'll see the above _t_-test for a sample, but can you see an equivalent one for performing a *z*-test from a sample? Comment on your answer."
   ]
  },
  {
   "cell_type": "markdown",
   "metadata": {},
   "source": [
    "__A:__Yes there actually is a `scipy.stats.zscore` function that will compute the `z-score` for each value in a sample relative to the sample mean and standard deviation. However, based on what we know about `z-scores`, this test would not be appropriate because the z-score assumes a normal distribution and we saw in our histogram above that the insurance charges do not follow a normal distribution and are right skewed. We also know that the z-score does not account for degrees of freedom of a dataset distribution and additionally, the z-score may give us a confidence interval that is too precise for our data. Thus, the `scipy.stats.ttest_ind` is more appropriate here."
   ]
  },
  {
   "cell_type": "markdown",
   "metadata": {},
   "source": [
    "## Learning outcomes"
   ]
  },
  {
   "cell_type": "markdown",
   "metadata": {},
   "source": [
    "Having completed this project notebook, you now have good hands-on experience:\n",
    "* using the central limit theorem to help you apply frequentist techniques to answer questions that pertain to very non-normally distributed data from the real world\n",
    "* performing inference using such data to answer business questions\n",
    "* forming a hypothesis and framing the null and alternative hypotheses\n",
    "* testing this using a _t_-test"
   ]
  }
 ],
 "metadata": {
  "kernelspec": {
   "display_name": "Python 3",
   "language": "python",
   "name": "python3"
  },
  "language_info": {
   "codemirror_mode": {
    "name": "ipython",
    "version": 3
   },
   "file_extension": ".py",
   "mimetype": "text/x-python",
   "name": "python",
   "nbconvert_exporter": "python",
   "pygments_lexer": "ipython3",
   "version": "3.11.9"
  }
 },
 "nbformat": 4,
 "nbformat_minor": 2
}
